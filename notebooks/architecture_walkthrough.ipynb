{
 "cells": [
  {
   "cell_type": "markdown",
   "metadata": {},
   "source": [
    "This notebook tries to make the Volcanito architecture easier to understand by walking through one specific example."
   ]
  },
  {
   "cell_type": "code",
   "execution_count": 1,
   "metadata": {},
   "outputs": [
    {
     "name": "stderr",
     "output_type": "stream",
     "text": [
      "\u001b[32m\u001b[1m Activating\u001b[22m\u001b[39m environment at `~/Dropbox (Personal)/Coding Projects/Volcanito/Project.toml`\n"
     ]
    }
   ],
   "source": [
    "import Pkg\n",
    "Pkg.activate(\"..\")"
   ]
  },
  {
   "cell_type": "code",
   "execution_count": 2,
   "metadata": {},
   "outputs": [],
   "source": [
    "import DataFrames: DataFrame\n",
    "import Volcanito: @select, materialize\n",
    "import MacroTools: prettify"
   ]
  },
  {
   "cell_type": "code",
   "execution_count": 3,
   "metadata": {},
   "outputs": [
    {
     "data": {
      "text/html": [
       "<table class=\"data-frame\"><thead><tr><th></th><th>a</th><th>b</th></tr><tr><th></th><th>Int64</th><th>Float64?</th></tr></thead><tbody><p>4 rows × 2 columns</p><tr><th>1</th><td>1</td><td>0.1</td></tr><tr><th>2</th><td>2</td><td>0.2</td></tr><tr><th>3</th><td>3</td><td><em>missing</em></td></tr><tr><th>4</th><td>4</td><td>0.4</td></tr></tbody></table>"
      ],
      "text/latex": [
       "\\begin{tabular}{r|cc}\n",
       "\t& a & b\\\\\n",
       "\t\\hline\n",
       "\t& Int64 & Float64?\\\\\n",
       "\t\\hline\n",
       "\t1 & 1 & 0.1 \\\\\n",
       "\t2 & 2 & 0.2 \\\\\n",
       "\t3 & 3 & \\emph{missing} \\\\\n",
       "\t4 & 4 & 0.4 \\\\\n",
       "\\end{tabular}\n"
      ],
      "text/plain": [
       "4×2 DataFrame\n",
       "│ Row │ a     │ b        │\n",
       "│     │ \u001b[90mInt64\u001b[39m │ \u001b[90mFloat64?\u001b[39m │\n",
       "├─────┼───────┼──────────┤\n",
       "│ 1   │ 1     │ 0.1      │\n",
       "│ 2   │ 2     │ 0.2      │\n",
       "│ 3   │ 3     │ \u001b[90mmissing\u001b[39m  │\n",
       "│ 4   │ 4     │ 0.4      │"
      ]
     },
     "execution_count": 3,
     "metadata": {},
     "output_type": "execute_result"
    }
   ],
   "source": [
    "df = DataFrame(\n",
    "    a = [1, 2, 3, 4],\n",
    "    b = [0.1, 0.2, missing, 0.4],\n",
    ")"
   ]
  },
  {
   "cell_type": "markdown",
   "metadata": {},
   "source": [
    "Users write things like:"
   ]
  },
  {
   "cell_type": "code",
   "execution_count": 4,
   "metadata": {},
   "outputs": [
    {
     "data": {
      "text/plain": []
     },
     "execution_count": 4,
     "metadata": {},
     "output_type": "execute_result"
    },
    {
     "name": "stdout",
     "output_type": "stream",
     "text": [
      "4×2 DataFrame\n",
      "│ Row │ c        │ d        │\n",
      "│     │ \u001b[90mFloat64?\u001b[39m │ \u001b[90mFloat64?\u001b[39m │\n",
      "├─────┼──────────┼──────────┤\n",
      "│ 1   │ 1.1      │ 0.9      │\n",
      "│ 2   │ 2.2      │ 1.8      │\n",
      "│ 3   │ \u001b[90mmissing\u001b[39m  │ \u001b[90mmissing\u001b[39m  │\n",
      "│ 4   │ 4.4      │ 3.6      │"
     ]
    }
   ],
   "source": [
    "@select(df, c = a + b, d = a - b)"
   ]
  },
  {
   "cell_type": "markdown",
   "metadata": {},
   "source": [
    "This macro call is expanded to a logical node constructor based on `FunctionSpec` objects per-expression in the input:"
   ]
  },
  {
   "cell_type": "code",
   "execution_count": 5,
   "metadata": {},
   "outputs": [
    {
     "data": {
      "text/plain": [
       ":(Volcanito.Projection(df, (Volcanito.FunctionSpec(:c, $(QuoteNode(:(a + b))), $(QuoteNode(:(c = a + b))), (:a, :b), Volcanito.Dict{Volcanito.Symbol, Volcanito.Int}(:a => 1, :b => 2), (t->t[1] + t[2]), ((a, b)->a + b), true, false, false), Volcanito.FunctionSpec(:d, $(QuoteNode(:(a - b))), $(QuoteNode(:(d = a - b))), (:a, :b), Volcanito.Dict{Volcanito.Symbol, Volcanito.Int}(:a => 1, :b => 2), (t->t[1] - t[2]), ((a, b)->a - b), true, false, false))))"
      ]
     },
     "execution_count": 5,
     "metadata": {},
     "output_type": "execute_result"
    }
   ],
   "source": [
    "prettify(@macroexpand @select(df, c = a + b, d = a - b))"
   ]
  },
  {
   "cell_type": "markdown",
   "metadata": {},
   "source": [
    "A more readable version of that might look like:"
   ]
  },
  {
   "cell_type": "markdown",
   "metadata": {},
   "source": [
    "```\n",
    "Projection(\n",
    "    df,\n",
    "    (\n",
    "        FunctionSpec(\n",
    "            :c,\n",
    "            :(a + b),\n",
    "            :(c = a + b),\n",
    "            (:a, :b),\n",
    "            Dict{Symbol, Int}(:a => 1, :b => 2),\n",
    "            t -> t[1] + t[2],\n",
    "            (a, b) -> a + b,\n",
    "            true,\n",
    "            false,\n",
    "            false,\n",
    "        ),\n",
    "        FunctionSpec(\n",
    "            :d,\n",
    "            :(a - b),\n",
    "            :(d = a - b),\n",
    "            (:a, :b),\n",
    "            Dict{Symbol, Int}(:a => 1, :b => 2),\n",
    "            t -> t[1] - t[2],\n",
    "            (a, b) -> a - b,\n",
    "            true,\n",
    "            false,\n",
    "            false,\n",
    "        )\n",
    "    )\n",
    ")\n",
    "```"
   ]
  },
  {
   "cell_type": "markdown",
   "metadata": {},
   "source": [
    "Clearly, this is less enjoyable for users to write."
   ]
  },
  {
   "cell_type": "markdown",
   "metadata": {},
   "source": [
    "To evaluate a logical node and get a DataFrame back, we use the `materialize` function:"
   ]
  },
  {
   "cell_type": "code",
   "execution_count": 6,
   "metadata": {},
   "outputs": [
    {
     "data": {
      "text/html": [
       "<table class=\"data-frame\"><thead><tr><th></th><th>c</th><th>d</th></tr><tr><th></th><th>Float64?</th><th>Float64?</th></tr></thead><tbody><p>4 rows × 2 columns</p><tr><th>1</th><td>1.1</td><td>0.9</td></tr><tr><th>2</th><td>2.2</td><td>1.8</td></tr><tr><th>3</th><td><em>missing</em></td><td><em>missing</em></td></tr><tr><th>4</th><td>4.4</td><td>3.6</td></tr></tbody></table>"
      ],
      "text/latex": [
       "\\begin{tabular}{r|cc}\n",
       "\t& c & d\\\\\n",
       "\t\\hline\n",
       "\t& Float64? & Float64?\\\\\n",
       "\t\\hline\n",
       "\t1 & 1.1 & 0.9 \\\\\n",
       "\t2 & 2.2 & 1.8 \\\\\n",
       "\t3 & \\emph{missing} & \\emph{missing} \\\\\n",
       "\t4 & 4.4 & 3.6 \\\\\n",
       "\\end{tabular}\n"
      ],
      "text/plain": [
       "4×2 DataFrame\n",
       "│ Row │ c        │ d        │\n",
       "│     │ \u001b[90mFloat64?\u001b[39m │ \u001b[90mFloat64?\u001b[39m │\n",
       "├─────┼──────────┼──────────┤\n",
       "│ 1   │ 1.1      │ 0.9      │\n",
       "│ 2   │ 2.2      │ 1.8      │\n",
       "│ 3   │ \u001b[90mmissing\u001b[39m  │ \u001b[90mmissing\u001b[39m  │\n",
       "│ 4   │ 4.4      │ 3.6      │"
      ]
     },
     "execution_count": 6,
     "metadata": {},
     "output_type": "execute_result"
    }
   ],
   "source": [
    "materialize(@select(df, c = a + b, d = a - b))"
   ]
  },
  {
   "cell_type": "markdown",
   "metadata": {},
   "source": [
    "This last step passes through all three phases in one line:\n",
    "\n",
    "1. The user-facing `@select` macro is called.\n",
    "2. The macro is expanded to a `Projection` logical node constructor.\n",
    "3. `materialize` is called on the `Projection` object, which performs compute using a specific physical operation that's specialized for evaluating a projection on a DataFrame."
   ]
  }
 ],
 "metadata": {
  "kernelspec": {
   "display_name": "Julia 1.5.0",
   "language": "julia",
   "name": "julia-1.5"
  },
  "language_info": {
   "file_extension": ".jl",
   "mimetype": "application/julia",
   "name": "julia",
   "version": "1.5.1"
  }
 },
 "nbformat": 4,
 "nbformat_minor": 4
}

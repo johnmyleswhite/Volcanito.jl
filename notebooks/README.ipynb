{
 "cells": [
  {
   "cell_type": "markdown",
   "metadata": {},
   "source": [
    "# Volcanito.jl\n",
    "\n",
    "Volcanito is an attempt to start standardizing the user-facing API that tables\n",
    "expose in Julia. Because that task is too ambitious for one person writing code\n",
    "in spurts every few months, the project is starting with something less\n",
    "ambitious:\n",
    "\n",
    "* Standardize on a set of user-facing macros that define primitive operations\n",
    "    on tables:\n",
    "    * `@select`\n",
    "    * `@where`\n",
    "    * `@group_by`\n",
    "    * `@aggregate_vector`\n",
    "    * `@order_by`\n",
    "    * `@limit`\n",
    "* Lower those user-facing macros to objects that lazily represent those\n",
    "    operations and can be used to build a simplified logical plan:\n",
    "    * `Select`\n",
    "    * `Where`\n",
    "    * `GroupBy`\n",
    "    * `AggregateVector`\n",
    "    * `OrderBy`\n",
    "    * `Limit`\n",
    "* Define a basic implementation of how to carry out the logical plan in terms\n",
    "    of primitive operations on DataFrames from\n",
    "    [DataFrames.jl](https://github.com/JuliaData/DataFrames.jl).\n",
    "\n",
    "For more details, see [docs/architecture.md](docs/architecture.md).\n",
    "\n",
    "# Example Usage"
   ]
  },
  {
   "cell_type": "code",
   "execution_count": 1,
   "metadata": {},
   "outputs": [
    {
     "name": "stderr",
     "output_type": "stream",
     "text": [
      "\u001b[32m\u001b[1m Activating\u001b[22m\u001b[39m environment at `~/Dropbox (Personal)/Coding Projects/Volcanito/Project.toml`\n"
     ]
    }
   ],
   "source": [
    "import Pkg\n",
    "Pkg.activate(\"..\")"
   ]
  },
  {
   "cell_type": "code",
   "execution_count": 2,
   "metadata": {},
   "outputs": [],
   "source": [
    "import DataFrames: DataFrame\n",
    "\n",
    "import Statistics: mean\n",
    "\n",
    "import Volcanito:\n",
    "    @select,\n",
    "    @where,\n",
    "    @group_by,\n",
    "    @aggregate_vector,\n",
    "    @order_by,\n",
    "    @limit"
   ]
  },
  {
   "cell_type": "code",
   "execution_count": 3,
   "metadata": {},
   "outputs": [
    {
     "data": {
      "text/html": [
       "<table class=\"data-frame\"><thead><tr><th></th><th>a</th><th>b</th><th>c</th></tr><tr><th></th><th>Float64</th><th>Float64</th><th>Bool</th></tr></thead><tbody><p>10,000 rows × 3 columns</p><tr><th>1</th><td>0.539269</td><td>0.916247</td><td>1</td></tr><tr><th>2</th><td>0.640819</td><td>0.586741</td><td>1</td></tr><tr><th>3</th><td>0.567328</td><td>0.722444</td><td>1</td></tr><tr><th>4</th><td>0.637534</td><td>0.0539694</td><td>0</td></tr><tr><th>5</th><td>0.938546</td><td>0.773018</td><td>0</td></tr><tr><th>6</th><td>0.981955</td><td>0.748735</td><td>0</td></tr><tr><th>7</th><td>0.877929</td><td>0.487357</td><td>0</td></tr><tr><th>8</th><td>0.69128</td><td>0.11586</td><td>0</td></tr><tr><th>9</th><td>0.0555721</td><td>0.214801</td><td>0</td></tr><tr><th>10</th><td>0.512568</td><td>0.476032</td><td>0</td></tr><tr><th>11</th><td>0.52929</td><td>0.676167</td><td>1</td></tr><tr><th>12</th><td>0.107706</td><td>0.477768</td><td>0</td></tr><tr><th>13</th><td>0.728599</td><td>0.102919</td><td>0</td></tr><tr><th>14</th><td>0.491722</td><td>0.498125</td><td>0</td></tr><tr><th>15</th><td>0.879323</td><td>0.426245</td><td>0</td></tr><tr><th>16</th><td>0.743608</td><td>0.143874</td><td>1</td></tr><tr><th>17</th><td>0.818236</td><td>0.632945</td><td>0</td></tr><tr><th>18</th><td>0.0286107</td><td>0.271792</td><td>1</td></tr><tr><th>19</th><td>0.777895</td><td>0.159393</td><td>0</td></tr><tr><th>20</th><td>0.723512</td><td>0.487864</td><td>1</td></tr><tr><th>21</th><td>0.0512845</td><td>0.264945</td><td>0</td></tr><tr><th>22</th><td>0.181427</td><td>0.950758</td><td>0</td></tr><tr><th>23</th><td>0.522489</td><td>0.925247</td><td>1</td></tr><tr><th>24</th><td>0.707625</td><td>0.00101675</td><td>1</td></tr><tr><th>25</th><td>0.903099</td><td>0.080114</td><td>1</td></tr><tr><th>26</th><td>0.374433</td><td>0.538659</td><td>0</td></tr><tr><th>27</th><td>0.135844</td><td>0.0324313</td><td>1</td></tr><tr><th>28</th><td>0.413385</td><td>0.389221</td><td>1</td></tr><tr><th>29</th><td>0.418108</td><td>0.183634</td><td>0</td></tr><tr><th>30</th><td>0.214232</td><td>0.509814</td><td>0</td></tr><tr><th>&vellip;</th><td>&vellip;</td><td>&vellip;</td><td>&vellip;</td></tr></tbody></table>"
      ],
      "text/latex": [
       "\\begin{tabular}{r|ccc}\n",
       "\t& a & b & c\\\\\n",
       "\t\\hline\n",
       "\t& Float64 & Float64 & Bool\\\\\n",
       "\t\\hline\n",
       "\t1 & 0.539269 & 0.916247 & 1 \\\\\n",
       "\t2 & 0.640819 & 0.586741 & 1 \\\\\n",
       "\t3 & 0.567328 & 0.722444 & 1 \\\\\n",
       "\t4 & 0.637534 & 0.0539694 & 0 \\\\\n",
       "\t5 & 0.938546 & 0.773018 & 0 \\\\\n",
       "\t6 & 0.981955 & 0.748735 & 0 \\\\\n",
       "\t7 & 0.877929 & 0.487357 & 0 \\\\\n",
       "\t8 & 0.69128 & 0.11586 & 0 \\\\\n",
       "\t9 & 0.0555721 & 0.214801 & 0 \\\\\n",
       "\t10 & 0.512568 & 0.476032 & 0 \\\\\n",
       "\t11 & 0.52929 & 0.676167 & 1 \\\\\n",
       "\t12 & 0.107706 & 0.477768 & 0 \\\\\n",
       "\t13 & 0.728599 & 0.102919 & 0 \\\\\n",
       "\t14 & 0.491722 & 0.498125 & 0 \\\\\n",
       "\t15 & 0.879323 & 0.426245 & 0 \\\\\n",
       "\t16 & 0.743608 & 0.143874 & 1 \\\\\n",
       "\t17 & 0.818236 & 0.632945 & 0 \\\\\n",
       "\t18 & 0.0286107 & 0.271792 & 1 \\\\\n",
       "\t19 & 0.777895 & 0.159393 & 0 \\\\\n",
       "\t20 & 0.723512 & 0.487864 & 1 \\\\\n",
       "\t21 & 0.0512845 & 0.264945 & 0 \\\\\n",
       "\t22 & 0.181427 & 0.950758 & 0 \\\\\n",
       "\t23 & 0.522489 & 0.925247 & 1 \\\\\n",
       "\t24 & 0.707625 & 0.00101675 & 1 \\\\\n",
       "\t25 & 0.903099 & 0.080114 & 1 \\\\\n",
       "\t26 & 0.374433 & 0.538659 & 0 \\\\\n",
       "\t27 & 0.135844 & 0.0324313 & 1 \\\\\n",
       "\t28 & 0.413385 & 0.389221 & 1 \\\\\n",
       "\t29 & 0.418108 & 0.183634 & 0 \\\\\n",
       "\t30 & 0.214232 & 0.509814 & 0 \\\\\n",
       "\t$\\dots$ & $\\dots$ & $\\dots$ & $\\dots$ \\\\\n",
       "\\end{tabular}\n"
      ],
      "text/plain": [
       "10000×3 DataFrame\n",
       "│ Row   │ a         │ b         │ c    │\n",
       "│       │ \u001b[90mFloat64\u001b[39m   │ \u001b[90mFloat64\u001b[39m   │ \u001b[90mBool\u001b[39m │\n",
       "├───────┼───────────┼───────────┼──────┤\n",
       "│ 1     │ 0.539269  │ 0.916247  │ 1    │\n",
       "│ 2     │ 0.640819  │ 0.586741  │ 1    │\n",
       "│ 3     │ 0.567328  │ 0.722444  │ 1    │\n",
       "│ 4     │ 0.637534  │ 0.0539694 │ 0    │\n",
       "│ 5     │ 0.938546  │ 0.773018  │ 0    │\n",
       "│ 6     │ 0.981955  │ 0.748735  │ 0    │\n",
       "│ 7     │ 0.877929  │ 0.487357  │ 0    │\n",
       "│ 8     │ 0.69128   │ 0.11586   │ 0    │\n",
       "│ 9     │ 0.0555721 │ 0.214801  │ 0    │\n",
       "│ 10    │ 0.512568  │ 0.476032  │ 0    │\n",
       "⋮\n",
       "│ 9990  │ 0.242068  │ 0.718355  │ 1    │\n",
       "│ 9991  │ 0.845784  │ 0.106749  │ 1    │\n",
       "│ 9992  │ 0.245139  │ 0.600922  │ 1    │\n",
       "│ 9993  │ 0.0921204 │ 0.627676  │ 0    │\n",
       "│ 9994  │ 0.318907  │ 0.557485  │ 0    │\n",
       "│ 9995  │ 0.884076  │ 0.87798   │ 1    │\n",
       "│ 9996  │ 0.660093  │ 0.426392  │ 1    │\n",
       "│ 9997  │ 0.725359  │ 0.914951  │ 1    │\n",
       "│ 9998  │ 0.406335  │ 0.725045  │ 0    │\n",
       "│ 9999  │ 0.894605  │ 0.0818538 │ 1    │\n",
       "│ 10000 │ 0.091742  │ 0.498154  │ 0    │"
      ]
     },
     "execution_count": 3,
     "metadata": {},
     "output_type": "execute_result"
    }
   ],
   "source": [
    "df = DataFrame(\n",
    "    a = rand(10_000),\n",
    "    b = rand(10_000),\n",
    "    c = rand(Bool, 10_000),\n",
    ")"
   ]
  },
  {
   "cell_type": "code",
   "execution_count": 4,
   "metadata": {},
   "outputs": [
    {
     "data": {
      "text/plain": []
     },
     "execution_count": 4,
     "metadata": {},
     "output_type": "execute_result"
    },
    {
     "name": "stdout",
     "output_type": "stream",
     "text": [
      "10000×3 DataFrame\n",
      "│ Row   │ a         │ b         │ d        │\n",
      "│       │ \u001b[90mFloat64\u001b[39m   │ \u001b[90mFloat64\u001b[39m   │ \u001b[90mFloat64\u001b[39m  │\n",
      "├───────┼───────────┼───────────┼──────────┤\n",
      "│ 1     │ 0.539269  │ 0.916247  │ 1.45552  │\n",
      "│ 2     │ 0.640819  │ 0.586741  │ 1.22756  │\n",
      "│ 3     │ 0.567328  │ 0.722444  │ 1.28977  │\n",
      "│ 4     │ 0.637534  │ 0.0539694 │ 0.691504 │\n",
      "│ 5     │ 0.938546  │ 0.773018  │ 1.71156  │\n",
      "│ 6     │ 0.981955  │ 0.748735  │ 1.73069  │\n",
      "│ 7     │ 0.877929  │ 0.487357  │ 1.36529  │\n",
      "│ 8     │ 0.69128   │ 0.11586   │ 0.80714  │\n",
      "│ 9     │ 0.0555721 │ 0.214801  │ 0.270373 │\n",
      "│ 10    │ 0.512568  │ 0.476032  │ 0.9886   │\n",
      "⋮\n",
      "│ 9990  │ 0.242068  │ 0.718355  │ 0.960422 │\n",
      "│ 9991  │ 0.845784  │ 0.106749  │ 0.952533 │\n",
      "│ 9992  │ 0.245139  │ 0.600922  │ 0.846062 │\n",
      "│ 9993  │ 0.0921204 │ 0.627676  │ 0.719796 │\n",
      "│ 9994  │ 0.318907  │ 0.557485  │ 0.876391 │\n",
      "│ 9995  │ 0.884076  │ 0.87798   │ 1.76206  │\n",
      "│ 9996  │ 0.660093  │ 0.426392  │ 1.08648  │\n",
      "│ 9997  │ 0.725359  │ 0.914951  │ 1.64031  │\n",
      "│ 9998  │ 0.406335  │ 0.725045  │ 1.13138  │\n",
      "│ 9999  │ 0.894605  │ 0.0818538 │ 0.976459 │\n",
      "│ 10000 │ 0.091742  │ 0.498154  │ 0.589896 │"
     ]
    }
   ],
   "source": [
    "@select(df, a, b, d = a + b)"
   ]
  },
  {
   "cell_type": "code",
   "execution_count": 5,
   "metadata": {},
   "outputs": [
    {
     "data": {
      "text/plain": []
     },
     "execution_count": 5,
     "metadata": {},
     "output_type": "execute_result"
    },
    {
     "name": "stdout",
     "output_type": "stream",
     "text": [
      "4968×3 DataFrame\n",
      "│ Row  │ a        │ b         │ c    │\n",
      "│      │ \u001b[90mFloat64\u001b[39m  │ \u001b[90mFloat64\u001b[39m   │ \u001b[90mBool\u001b[39m │\n",
      "├──────┼──────────┼───────────┼──────┤\n",
      "│ 1    │ 0.640819 │ 0.586741  │ 1    │\n",
      "│ 2    │ 0.637534 │ 0.0539694 │ 0    │\n",
      "│ 3    │ 0.938546 │ 0.773018  │ 0    │\n",
      "│ 4    │ 0.981955 │ 0.748735  │ 0    │\n",
      "│ 5    │ 0.877929 │ 0.487357  │ 0    │\n",
      "│ 6    │ 0.69128  │ 0.11586   │ 0    │\n",
      "│ 7    │ 0.512568 │ 0.476032  │ 0    │\n",
      "│ 8    │ 0.728599 │ 0.102919  │ 0    │\n",
      "│ 9    │ 0.879323 │ 0.426245  │ 0    │\n",
      "│ 10   │ 0.743608 │ 0.143874  │ 1    │\n",
      "⋮\n",
      "│ 4958 │ 0.427635 │ 0.0135866 │ 0    │\n",
      "│ 4959 │ 0.106481 │ 0.0538055 │ 0    │\n",
      "│ 4960 │ 0.980864 │ 0.676492  │ 0    │\n",
      "│ 4961 │ 0.856153 │ 0.693158  │ 0    │\n",
      "│ 4962 │ 0.845363 │ 0.359023  │ 1    │\n",
      "│ 4963 │ 0.560947 │ 0.230194  │ 1    │\n",
      "│ 4964 │ 0.553329 │ 0.240653  │ 1    │\n",
      "│ 4965 │ 0.845784 │ 0.106749  │ 1    │\n",
      "│ 4966 │ 0.884076 │ 0.87798   │ 1    │\n",
      "│ 4967 │ 0.660093 │ 0.426392  │ 1    │\n",
      "│ 4968 │ 0.894605 │ 0.0818538 │ 1    │"
     ]
    }
   ],
   "source": [
    "@where(df, a > b)"
   ]
  },
  {
   "cell_type": "code",
   "execution_count": 6,
   "metadata": {},
   "outputs": [
    {
     "data": {
      "text/plain": []
     },
     "execution_count": 6,
     "metadata": {},
     "output_type": "execute_result"
    },
    {
     "name": "stdout",
     "output_type": "stream",
     "text": [
      "2×5 DataFrame\n",
      "│ Row │ !c   │ m_a      │ m_b      │ n_a   │ n_b   │\n",
      "│     │ \u001b[90mBool\u001b[39m │ \u001b[90mFloat64\u001b[39m  │ \u001b[90mFloat64\u001b[39m  │ \u001b[90mInt64\u001b[39m │ \u001b[90mInt64\u001b[39m │\n",
      "├─────┼──────┼──────────┼──────────┼───────┼───────┤\n",
      "│ 1   │ 0    │ 0.4997   │ 0.501676 │ 5050  │ 5050  │\n",
      "│ 2   │ 1    │ 0.498988 │ 0.496971 │ 4950  │ 4950  │"
     ]
    }
   ],
   "source": [
    "@aggregate_vector(\n",
    "    @group_by(df, !c),\n",
    "    m_a = mean(a),\n",
    "    m_b = mean(b),\n",
    "    n_a = length(a),\n",
    "    n_b = length(b),\n",
    ")"
   ]
  },
  {
   "cell_type": "code",
   "execution_count": 7,
   "metadata": {},
   "outputs": [
    {
     "data": {
      "text/plain": []
     },
     "execution_count": 7,
     "metadata": {},
     "output_type": "execute_result"
    },
    {
     "name": "stdout",
     "output_type": "stream",
     "text": [
      "10000×3 DataFrame\n",
      "│ Row   │ a          │ b          │ c    │\n",
      "│       │ \u001b[90mFloat64\u001b[39m    │ \u001b[90mFloat64\u001b[39m    │ \u001b[90mBool\u001b[39m │\n",
      "├───────┼────────────┼────────────┼──────┤\n",
      "│ 1     │ 0.00519039 │ 0.00781176 │ 0    │\n",
      "│ 2     │ 0.00759572 │ 0.00626751 │ 0    │\n",
      "│ 3     │ 0.0219159  │ 0.00484135 │ 1    │\n",
      "│ 4     │ 0.0226781  │ 0.00469032 │ 0    │\n",
      "│ 5     │ 0.0176394  │ 0.011848   │ 1    │\n",
      "│ 6     │ 0.00135077 │ 0.0310477  │ 0    │\n",
      "│ 7     │ 0.0140831  │ 0.0255107  │ 0    │\n",
      "│ 8     │ 0.018852   │ 0.0253574  │ 0    │\n",
      "│ 9     │ 0.0369959  │ 0.00795112 │ 0    │\n",
      "│ 10    │ 0.0270518  │ 0.0200754  │ 1    │\n",
      "⋮\n",
      "│ 9990  │ 0.955264   │ 0.987983   │ 0    │\n",
      "│ 9991  │ 0.983731   │ 0.962799   │ 0    │\n",
      "│ 9992  │ 0.954755   │ 0.999583   │ 1    │\n",
      "│ 9993  │ 0.973232   │ 0.984307   │ 1    │\n",
      "│ 9994  │ 0.994726   │ 0.963807   │ 0    │\n",
      "│ 9995  │ 0.961814   │ 0.999509   │ 1    │\n",
      "│ 9996  │ 0.972445   │ 0.989337   │ 0    │\n",
      "│ 9997  │ 0.995004   │ 0.970239   │ 1    │\n",
      "│ 9998  │ 0.987697   │ 0.980765   │ 1    │\n",
      "│ 9999  │ 0.99976    │ 0.97556    │ 0    │\n",
      "│ 10000 │ 0.990369   │ 0.994274   │ 0    │"
     ]
    }
   ],
   "source": [
    "@order_by(df, a + b)"
   ]
  },
  {
   "cell_type": "code",
   "execution_count": 8,
   "metadata": {},
   "outputs": [
    {
     "data": {
      "text/plain": []
     },
     "execution_count": 8,
     "metadata": {},
     "output_type": "execute_result"
    },
    {
     "name": "stdout",
     "output_type": "stream",
     "text": [
      "10×3 DataFrame\n",
      "│ Row │ a         │ b         │ c    │\n",
      "│     │ \u001b[90mFloat64\u001b[39m   │ \u001b[90mFloat64\u001b[39m   │ \u001b[90mBool\u001b[39m │\n",
      "├─────┼───────────┼───────────┼──────┤\n",
      "│ 1   │ 0.539269  │ 0.916247  │ 1    │\n",
      "│ 2   │ 0.640819  │ 0.586741  │ 1    │\n",
      "│ 3   │ 0.567328  │ 0.722444  │ 1    │\n",
      "│ 4   │ 0.637534  │ 0.0539694 │ 0    │\n",
      "│ 5   │ 0.938546  │ 0.773018  │ 0    │\n",
      "│ 6   │ 0.981955  │ 0.748735  │ 0    │\n",
      "│ 7   │ 0.877929  │ 0.487357  │ 0    │\n",
      "│ 8   │ 0.69128   │ 0.11586   │ 0    │\n",
      "│ 9   │ 0.0555721 │ 0.214801  │ 0    │\n",
      "│ 10  │ 0.512568  │ 0.476032  │ 0    │"
     ]
    }
   ],
   "source": [
    "@limit(df, 10)"
   ]
  },
  {
   "cell_type": "markdown",
   "metadata": {},
   "source": [
    "To make it easier to understand how things work, the examples above all exploit\n",
    "the fact that Volcanito's user-facing macros construct `LogicalNode` objects\n",
    "that automatically materialize the result of a query whenever `Base.show` is\n",
    "called. This makes it seem as is the user-facing macros operate eagerly, but\n",
    "the truth is that they operate lazily and produce `LogicalNode` objects rather\n",
    "than DataFrames. If you want to transform a `LogicalNode` object into a full\n",
    "DataFrame, you should explicitly call `Volcanito.materialize`."
   ]
  },
  {
   "cell_type": "code",
   "execution_count": 9,
   "metadata": {},
   "outputs": [
    {
     "name": "stderr",
     "output_type": "stream",
     "text": [
      "\u001b[32m\u001b[1m Activating\u001b[22m\u001b[39m environment at `~/Dropbox (Personal)/Coding Projects/Volcanito/Project.toml`\n"
     ]
    }
   ],
   "source": [
    "import Pkg\n",
    "Pkg.activate(\"..\")"
   ]
  },
  {
   "cell_type": "code",
   "execution_count": 10,
   "metadata": {},
   "outputs": [],
   "source": [
    "import DataFrames: DataFrame\n",
    "\n",
    "import Volcanito:\n",
    "    @select,\n",
    "    materialize"
   ]
  },
  {
   "cell_type": "code",
   "execution_count": 11,
   "metadata": {},
   "outputs": [
    {
     "data": {
      "text/html": [
       "<table class=\"data-frame\"><thead><tr><th></th><th>a</th><th>b</th><th>c</th></tr><tr><th></th><th>Float64</th><th>Float64</th><th>Bool</th></tr></thead><tbody><p>10,000 rows × 3 columns</p><tr><th>1</th><td>0.852162</td><td>0.200106</td><td>1</td></tr><tr><th>2</th><td>0.321918</td><td>0.785016</td><td>1</td></tr><tr><th>3</th><td>0.215953</td><td>0.0205393</td><td>1</td></tr><tr><th>4</th><td>0.957633</td><td>0.916897</td><td>1</td></tr><tr><th>5</th><td>0.720666</td><td>0.47683</td><td>1</td></tr><tr><th>6</th><td>0.640876</td><td>0.888486</td><td>0</td></tr><tr><th>7</th><td>0.47517</td><td>0.969994</td><td>0</td></tr><tr><th>8</th><td>0.805707</td><td>0.618759</td><td>1</td></tr><tr><th>9</th><td>0.781557</td><td>0.600439</td><td>1</td></tr><tr><th>10</th><td>0.556716</td><td>0.0499625</td><td>0</td></tr><tr><th>11</th><td>0.0617375</td><td>0.379734</td><td>0</td></tr><tr><th>12</th><td>0.159395</td><td>0.726768</td><td>1</td></tr><tr><th>13</th><td>0.341265</td><td>0.104634</td><td>0</td></tr><tr><th>14</th><td>0.343654</td><td>0.233694</td><td>1</td></tr><tr><th>15</th><td>0.0745257</td><td>0.204493</td><td>1</td></tr><tr><th>16</th><td>0.666248</td><td>0.410916</td><td>1</td></tr><tr><th>17</th><td>0.456717</td><td>0.476411</td><td>0</td></tr><tr><th>18</th><td>0.173199</td><td>0.954481</td><td>0</td></tr><tr><th>19</th><td>0.299237</td><td>0.574739</td><td>1</td></tr><tr><th>20</th><td>0.0577585</td><td>0.0382972</td><td>0</td></tr><tr><th>21</th><td>0.613839</td><td>0.522476</td><td>0</td></tr><tr><th>22</th><td>0.411252</td><td>0.694115</td><td>0</td></tr><tr><th>23</th><td>0.303535</td><td>0.852082</td><td>0</td></tr><tr><th>24</th><td>0.706702</td><td>0.277598</td><td>1</td></tr><tr><th>25</th><td>0.467105</td><td>0.015155</td><td>1</td></tr><tr><th>26</th><td>0.0762713</td><td>0.428811</td><td>1</td></tr><tr><th>27</th><td>0.925617</td><td>0.180351</td><td>0</td></tr><tr><th>28</th><td>0.377936</td><td>0.129063</td><td>0</td></tr><tr><th>29</th><td>0.871104</td><td>0.351543</td><td>0</td></tr><tr><th>30</th><td>0.412038</td><td>0.930353</td><td>1</td></tr><tr><th>&vellip;</th><td>&vellip;</td><td>&vellip;</td><td>&vellip;</td></tr></tbody></table>"
      ],
      "text/latex": [
       "\\begin{tabular}{r|ccc}\n",
       "\t& a & b & c\\\\\n",
       "\t\\hline\n",
       "\t& Float64 & Float64 & Bool\\\\\n",
       "\t\\hline\n",
       "\t1 & 0.852162 & 0.200106 & 1 \\\\\n",
       "\t2 & 0.321918 & 0.785016 & 1 \\\\\n",
       "\t3 & 0.215953 & 0.0205393 & 1 \\\\\n",
       "\t4 & 0.957633 & 0.916897 & 1 \\\\\n",
       "\t5 & 0.720666 & 0.47683 & 1 \\\\\n",
       "\t6 & 0.640876 & 0.888486 & 0 \\\\\n",
       "\t7 & 0.47517 & 0.969994 & 0 \\\\\n",
       "\t8 & 0.805707 & 0.618759 & 1 \\\\\n",
       "\t9 & 0.781557 & 0.600439 & 1 \\\\\n",
       "\t10 & 0.556716 & 0.0499625 & 0 \\\\\n",
       "\t11 & 0.0617375 & 0.379734 & 0 \\\\\n",
       "\t12 & 0.159395 & 0.726768 & 1 \\\\\n",
       "\t13 & 0.341265 & 0.104634 & 0 \\\\\n",
       "\t14 & 0.343654 & 0.233694 & 1 \\\\\n",
       "\t15 & 0.0745257 & 0.204493 & 1 \\\\\n",
       "\t16 & 0.666248 & 0.410916 & 1 \\\\\n",
       "\t17 & 0.456717 & 0.476411 & 0 \\\\\n",
       "\t18 & 0.173199 & 0.954481 & 0 \\\\\n",
       "\t19 & 0.299237 & 0.574739 & 1 \\\\\n",
       "\t20 & 0.0577585 & 0.0382972 & 0 \\\\\n",
       "\t21 & 0.613839 & 0.522476 & 0 \\\\\n",
       "\t22 & 0.411252 & 0.694115 & 0 \\\\\n",
       "\t23 & 0.303535 & 0.852082 & 0 \\\\\n",
       "\t24 & 0.706702 & 0.277598 & 1 \\\\\n",
       "\t25 & 0.467105 & 0.015155 & 1 \\\\\n",
       "\t26 & 0.0762713 & 0.428811 & 1 \\\\\n",
       "\t27 & 0.925617 & 0.180351 & 0 \\\\\n",
       "\t28 & 0.377936 & 0.129063 & 0 \\\\\n",
       "\t29 & 0.871104 & 0.351543 & 0 \\\\\n",
       "\t30 & 0.412038 & 0.930353 & 1 \\\\\n",
       "\t$\\dots$ & $\\dots$ & $\\dots$ & $\\dots$ \\\\\n",
       "\\end{tabular}\n"
      ],
      "text/plain": [
       "10000×3 DataFrame\n",
       "│ Row   │ a        │ b         │ c    │\n",
       "│       │ \u001b[90mFloat64\u001b[39m  │ \u001b[90mFloat64\u001b[39m   │ \u001b[90mBool\u001b[39m │\n",
       "├───────┼──────────┼───────────┼──────┤\n",
       "│ 1     │ 0.852162 │ 0.200106  │ 1    │\n",
       "│ 2     │ 0.321918 │ 0.785016  │ 1    │\n",
       "│ 3     │ 0.215953 │ 0.0205393 │ 1    │\n",
       "│ 4     │ 0.957633 │ 0.916897  │ 1    │\n",
       "│ 5     │ 0.720666 │ 0.47683   │ 1    │\n",
       "│ 6     │ 0.640876 │ 0.888486  │ 0    │\n",
       "│ 7     │ 0.47517  │ 0.969994  │ 0    │\n",
       "│ 8     │ 0.805707 │ 0.618759  │ 1    │\n",
       "│ 9     │ 0.781557 │ 0.600439  │ 1    │\n",
       "│ 10    │ 0.556716 │ 0.0499625 │ 0    │\n",
       "⋮\n",
       "│ 9990  │ 0.25939  │ 0.418931  │ 0    │\n",
       "│ 9991  │ 0.91623  │ 0.51624   │ 1    │\n",
       "│ 9992  │ 0.228147 │ 0.265151  │ 0    │\n",
       "│ 9993  │ 0.126201 │ 0.32692   │ 1    │\n",
       "│ 9994  │ 0.342067 │ 0.973083  │ 0    │\n",
       "│ 9995  │ 0.348134 │ 0.664291  │ 0    │\n",
       "│ 9996  │ 0.90186  │ 0.875675  │ 0    │\n",
       "│ 9997  │ 0.543611 │ 0.525717  │ 0    │\n",
       "│ 9998  │ 0.294553 │ 0.291803  │ 0    │\n",
       "│ 9999  │ 0.483203 │ 0.399068  │ 0    │\n",
       "│ 10000 │ 0.310024 │ 0.217723  │ 0    │"
      ]
     },
     "execution_count": 11,
     "metadata": {},
     "output_type": "execute_result"
    }
   ],
   "source": [
    "df = DataFrame(\n",
    "    a = rand(10_000),\n",
    "    b = rand(10_000),\n",
    "    c = rand(Bool, 10_000),\n",
    ")"
   ]
  },
  {
   "cell_type": "code",
   "execution_count": 12,
   "metadata": {},
   "outputs": [
    {
     "data": {
      "text/plain": []
     },
     "execution_count": 12,
     "metadata": {},
     "output_type": "execute_result"
    },
    {
     "name": "stdout",
     "output_type": "stream",
     "text": [
      "10000×3 DataFrame\n",
      "│ Row   │ a        │ b         │ d        │\n",
      "│       │ \u001b[90mFloat64\u001b[39m  │ \u001b[90mFloat64\u001b[39m   │ \u001b[90mFloat64\u001b[39m  │\n",
      "├───────┼──────────┼───────────┼──────────┤\n",
      "│ 1     │ 0.852162 │ 0.200106  │ 1.05227  │\n",
      "│ 2     │ 0.321918 │ 0.785016  │ 1.10693  │\n",
      "│ 3     │ 0.215953 │ 0.0205393 │ 0.236492 │\n",
      "│ 4     │ 0.957633 │ 0.916897  │ 1.87453  │\n",
      "│ 5     │ 0.720666 │ 0.47683   │ 1.1975   │\n",
      "│ 6     │ 0.640876 │ 0.888486  │ 1.52936  │\n",
      "│ 7     │ 0.47517  │ 0.969994  │ 1.44516  │\n",
      "│ 8     │ 0.805707 │ 0.618759  │ 1.42447  │\n",
      "│ 9     │ 0.781557 │ 0.600439  │ 1.382    │\n",
      "│ 10    │ 0.556716 │ 0.0499625 │ 0.606679 │\n",
      "⋮\n",
      "│ 9990  │ 0.25939  │ 0.418931  │ 0.678321 │\n",
      "│ 9991  │ 0.91623  │ 0.51624   │ 1.43247  │\n",
      "│ 9992  │ 0.228147 │ 0.265151  │ 0.493297 │\n",
      "│ 9993  │ 0.126201 │ 0.32692   │ 0.453121 │\n",
      "│ 9994  │ 0.342067 │ 0.973083  │ 1.31515  │\n",
      "│ 9995  │ 0.348134 │ 0.664291  │ 1.01242  │\n",
      "│ 9996  │ 0.90186  │ 0.875675  │ 1.77753  │\n",
      "│ 9997  │ 0.543611 │ 0.525717  │ 1.06933  │\n",
      "│ 9998  │ 0.294553 │ 0.291803  │ 0.586356 │\n",
      "│ 9999  │ 0.483203 │ 0.399068  │ 0.882271 │\n",
      "│ 10000 │ 0.310024 │ 0.217723  │ 0.527747 │"
     ]
    }
   ],
   "source": [
    "plan = @select(df, a, b, d = a + b)"
   ]
  },
  {
   "cell_type": "code",
   "execution_count": 13,
   "metadata": {},
   "outputs": [
    {
     "data": {
      "text/plain": [
       "Volcanito.Projection{DataFrame,Tuple{Volcanito.FunctionSpec{Symbol,1,Symbol,var\"#27#33\",var\"#28#34\"},Volcanito.FunctionSpec{Symbol,1,Symbol,var\"#29#35\",var\"#30#36\"},Volcanito.FunctionSpec{Expr,2,Expr,var\"#31#37\",var\"#32#38\"}}}"
      ]
     },
     "execution_count": 13,
     "metadata": {},
     "output_type": "execute_result"
    }
   ],
   "source": [
    "typeof(plan)"
   ]
  },
  {
   "cell_type": "code",
   "execution_count": 14,
   "metadata": {},
   "outputs": [
    {
     "data": {
      "text/html": [
       "<table class=\"data-frame\"><thead><tr><th></th><th>a</th><th>b</th><th>d</th></tr><tr><th></th><th>Float64</th><th>Float64</th><th>Float64</th></tr></thead><tbody><p>10,000 rows × 3 columns</p><tr><th>1</th><td>0.852162</td><td>0.200106</td><td>1.05227</td></tr><tr><th>2</th><td>0.321918</td><td>0.785016</td><td>1.10693</td></tr><tr><th>3</th><td>0.215953</td><td>0.0205393</td><td>0.236492</td></tr><tr><th>4</th><td>0.957633</td><td>0.916897</td><td>1.87453</td></tr><tr><th>5</th><td>0.720666</td><td>0.47683</td><td>1.1975</td></tr><tr><th>6</th><td>0.640876</td><td>0.888486</td><td>1.52936</td></tr><tr><th>7</th><td>0.47517</td><td>0.969994</td><td>1.44516</td></tr><tr><th>8</th><td>0.805707</td><td>0.618759</td><td>1.42447</td></tr><tr><th>9</th><td>0.781557</td><td>0.600439</td><td>1.382</td></tr><tr><th>10</th><td>0.556716</td><td>0.0499625</td><td>0.606679</td></tr><tr><th>11</th><td>0.0617375</td><td>0.379734</td><td>0.441471</td></tr><tr><th>12</th><td>0.159395</td><td>0.726768</td><td>0.886162</td></tr><tr><th>13</th><td>0.341265</td><td>0.104634</td><td>0.445899</td></tr><tr><th>14</th><td>0.343654</td><td>0.233694</td><td>0.577348</td></tr><tr><th>15</th><td>0.0745257</td><td>0.204493</td><td>0.279019</td></tr><tr><th>16</th><td>0.666248</td><td>0.410916</td><td>1.07716</td></tr><tr><th>17</th><td>0.456717</td><td>0.476411</td><td>0.933128</td></tr><tr><th>18</th><td>0.173199</td><td>0.954481</td><td>1.12768</td></tr><tr><th>19</th><td>0.299237</td><td>0.574739</td><td>0.873976</td></tr><tr><th>20</th><td>0.0577585</td><td>0.0382972</td><td>0.0960557</td></tr><tr><th>21</th><td>0.613839</td><td>0.522476</td><td>1.13632</td></tr><tr><th>22</th><td>0.411252</td><td>0.694115</td><td>1.10537</td></tr><tr><th>23</th><td>0.303535</td><td>0.852082</td><td>1.15562</td></tr><tr><th>24</th><td>0.706702</td><td>0.277598</td><td>0.984301</td></tr><tr><th>25</th><td>0.467105</td><td>0.015155</td><td>0.48226</td></tr><tr><th>26</th><td>0.0762713</td><td>0.428811</td><td>0.505082</td></tr><tr><th>27</th><td>0.925617</td><td>0.180351</td><td>1.10597</td></tr><tr><th>28</th><td>0.377936</td><td>0.129063</td><td>0.506999</td></tr><tr><th>29</th><td>0.871104</td><td>0.351543</td><td>1.22265</td></tr><tr><th>30</th><td>0.412038</td><td>0.930353</td><td>1.34239</td></tr><tr><th>&vellip;</th><td>&vellip;</td><td>&vellip;</td><td>&vellip;</td></tr></tbody></table>"
      ],
      "text/latex": [
       "\\begin{tabular}{r|ccc}\n",
       "\t& a & b & d\\\\\n",
       "\t\\hline\n",
       "\t& Float64 & Float64 & Float64\\\\\n",
       "\t\\hline\n",
       "\t1 & 0.852162 & 0.200106 & 1.05227 \\\\\n",
       "\t2 & 0.321918 & 0.785016 & 1.10693 \\\\\n",
       "\t3 & 0.215953 & 0.0205393 & 0.236492 \\\\\n",
       "\t4 & 0.957633 & 0.916897 & 1.87453 \\\\\n",
       "\t5 & 0.720666 & 0.47683 & 1.1975 \\\\\n",
       "\t6 & 0.640876 & 0.888486 & 1.52936 \\\\\n",
       "\t7 & 0.47517 & 0.969994 & 1.44516 \\\\\n",
       "\t8 & 0.805707 & 0.618759 & 1.42447 \\\\\n",
       "\t9 & 0.781557 & 0.600439 & 1.382 \\\\\n",
       "\t10 & 0.556716 & 0.0499625 & 0.606679 \\\\\n",
       "\t11 & 0.0617375 & 0.379734 & 0.441471 \\\\\n",
       "\t12 & 0.159395 & 0.726768 & 0.886162 \\\\\n",
       "\t13 & 0.341265 & 0.104634 & 0.445899 \\\\\n",
       "\t14 & 0.343654 & 0.233694 & 0.577348 \\\\\n",
       "\t15 & 0.0745257 & 0.204493 & 0.279019 \\\\\n",
       "\t16 & 0.666248 & 0.410916 & 1.07716 \\\\\n",
       "\t17 & 0.456717 & 0.476411 & 0.933128 \\\\\n",
       "\t18 & 0.173199 & 0.954481 & 1.12768 \\\\\n",
       "\t19 & 0.299237 & 0.574739 & 0.873976 \\\\\n",
       "\t20 & 0.0577585 & 0.0382972 & 0.0960557 \\\\\n",
       "\t21 & 0.613839 & 0.522476 & 1.13632 \\\\\n",
       "\t22 & 0.411252 & 0.694115 & 1.10537 \\\\\n",
       "\t23 & 0.303535 & 0.852082 & 1.15562 \\\\\n",
       "\t24 & 0.706702 & 0.277598 & 0.984301 \\\\\n",
       "\t25 & 0.467105 & 0.015155 & 0.48226 \\\\\n",
       "\t26 & 0.0762713 & 0.428811 & 0.505082 \\\\\n",
       "\t27 & 0.925617 & 0.180351 & 1.10597 \\\\\n",
       "\t28 & 0.377936 & 0.129063 & 0.506999 \\\\\n",
       "\t29 & 0.871104 & 0.351543 & 1.22265 \\\\\n",
       "\t30 & 0.412038 & 0.930353 & 1.34239 \\\\\n",
       "\t$\\dots$ & $\\dots$ & $\\dots$ & $\\dots$ \\\\\n",
       "\\end{tabular}\n"
      ],
      "text/plain": [
       "10000×3 DataFrame\n",
       "│ Row   │ a        │ b         │ d        │\n",
       "│       │ \u001b[90mFloat64\u001b[39m  │ \u001b[90mFloat64\u001b[39m   │ \u001b[90mFloat64\u001b[39m  │\n",
       "├───────┼──────────┼───────────┼──────────┤\n",
       "│ 1     │ 0.852162 │ 0.200106  │ 1.05227  │\n",
       "│ 2     │ 0.321918 │ 0.785016  │ 1.10693  │\n",
       "│ 3     │ 0.215953 │ 0.0205393 │ 0.236492 │\n",
       "│ 4     │ 0.957633 │ 0.916897  │ 1.87453  │\n",
       "│ 5     │ 0.720666 │ 0.47683   │ 1.1975   │\n",
       "│ 6     │ 0.640876 │ 0.888486  │ 1.52936  │\n",
       "│ 7     │ 0.47517  │ 0.969994  │ 1.44516  │\n",
       "│ 8     │ 0.805707 │ 0.618759  │ 1.42447  │\n",
       "│ 9     │ 0.781557 │ 0.600439  │ 1.382    │\n",
       "│ 10    │ 0.556716 │ 0.0499625 │ 0.606679 │\n",
       "⋮\n",
       "│ 9990  │ 0.25939  │ 0.418931  │ 0.678321 │\n",
       "│ 9991  │ 0.91623  │ 0.51624   │ 1.43247  │\n",
       "│ 9992  │ 0.228147 │ 0.265151  │ 0.493297 │\n",
       "│ 9993  │ 0.126201 │ 0.32692   │ 0.453121 │\n",
       "│ 9994  │ 0.342067 │ 0.973083  │ 1.31515  │\n",
       "│ 9995  │ 0.348134 │ 0.664291  │ 1.01242  │\n",
       "│ 9996  │ 0.90186  │ 0.875675  │ 1.77753  │\n",
       "│ 9997  │ 0.543611 │ 0.525717  │ 1.06933  │\n",
       "│ 9998  │ 0.294553 │ 0.291803  │ 0.586356 │\n",
       "│ 9999  │ 0.483203 │ 0.399068  │ 0.882271 │\n",
       "│ 10000 │ 0.310024 │ 0.217723  │ 0.527747 │"
      ]
     },
     "execution_count": 14,
     "metadata": {},
     "output_type": "execute_result"
    }
   ],
   "source": [
    "df = materialize(plan)"
   ]
  },
  {
   "cell_type": "code",
   "execution_count": 15,
   "metadata": {},
   "outputs": [
    {
     "data": {
      "text/plain": [
       "DataFrame"
      ]
     },
     "execution_count": 15,
     "metadata": {},
     "output_type": "execute_result"
    }
   ],
   "source": [
    "typeof(df)"
   ]
  }
 ],
 "metadata": {
  "kernelspec": {
   "display_name": "Julia 1.5.0",
   "language": "julia",
   "name": "julia-1.5"
  },
  "language_info": {
   "file_extension": ".jl",
   "mimetype": "application/julia",
   "name": "julia",
   "version": "1.5.1"
  }
 },
 "nbformat": 4,
 "nbformat_minor": 4
}

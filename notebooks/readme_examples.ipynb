{
 "cells": [
  {
   "cell_type": "markdown",
   "metadata": {},
   "source": [
    "# Volcanito.jl\n",
    "\n",
    "Volcanito is an attempt to start standardizing the user-facing API that tables\n",
    "expose in Julia. Because that task is too ambitious for one person writing code\n",
    "in spurts every few months, the project is starting with something less\n",
    "ambitious:\n",
    "\n",
    "* Standardize on a set of user-facing macros that define primitive operations\n",
    "    on tables:\n",
    "    * `@select`\n",
    "    * `@where`\n",
    "    * `@group_by`\n",
    "    * `@aggregate_vector`\n",
    "    * `@order_by`\n",
    "    * `@limit`\n",
    "* Lower those user-facing macros to objects that lazily represent those\n",
    "    operations and can be used to build a simplified logical plan:\n",
    "    * `Select`\n",
    "    * `Where`\n",
    "    * `GroupBy`\n",
    "    * `AggregateVector`\n",
    "    * `OrderBy`\n",
    "    * `Limit`\n",
    "* Define a basic implementation of how to carry out the logical plan in terms\n",
    "    of primitive operations on DataFrames from\n",
    "    [DataFrames.jl](https://github.com/JuliaData/DataFrames.jl).\n",
    "\n",
    "For more details, see [docs/architecture.md](https://github.com/johnmyleswhite/Volcanito.jl/blob/master/docs/architecture.md).\n",
    "\n",
    "# Example Usage"
   ]
  },
  {
   "cell_type": "code",
   "execution_count": 1,
   "metadata": {},
   "outputs": [
    {
     "name": "stderr",
     "output_type": "stream",
     "text": [
      "\u001b[32m\u001b[1m Activating\u001b[22m\u001b[39m environment at `~/Dropbox (Personal)/Coding Projects/Volcanito/Project.toml`\n"
     ]
    }
   ],
   "source": [
    "import Pkg\n",
    "Pkg.activate(\"..\")"
   ]
  },
  {
   "cell_type": "code",
   "execution_count": 2,
   "metadata": {},
   "outputs": [],
   "source": [
    "import DataFrames: DataFrame\n",
    "\n",
    "import Statistics: mean\n",
    "\n",
    "import Volcanito:\n",
    "    @select,\n",
    "    @where,\n",
    "    @group_by,\n",
    "    @aggregate_vector,\n",
    "    @order_by,\n",
    "    @limit"
   ]
  },
  {
   "cell_type": "code",
   "execution_count": 3,
   "metadata": {},
   "outputs": [
    {
     "data": {
      "text/html": [
       "<table class=\"data-frame\"><thead><tr><th></th><th>a</th><th>b</th><th>c</th></tr><tr><th></th><th>Float64</th><th>Float64</th><th>Bool</th></tr></thead><tbody><p>10,000 rows × 3 columns</p><tr><th>1</th><td>0.925917</td><td>0.389588</td><td>0</td></tr><tr><th>2</th><td>0.841932</td><td>0.276801</td><td>1</td></tr><tr><th>3</th><td>0.366998</td><td>0.167371</td><td>0</td></tr><tr><th>4</th><td>0.775667</td><td>0.0864964</td><td>1</td></tr><tr><th>5</th><td>0.331247</td><td>0.00128394</td><td>1</td></tr><tr><th>6</th><td>0.123244</td><td>0.457262</td><td>1</td></tr><tr><th>7</th><td>0.885265</td><td>0.975031</td><td>1</td></tr><tr><th>8</th><td>0.467497</td><td>0.767182</td><td>0</td></tr><tr><th>9</th><td>0.075116</td><td>0.866763</td><td>0</td></tr><tr><th>10</th><td>0.319431</td><td>0.979848</td><td>0</td></tr><tr><th>11</th><td>0.786434</td><td>0.0293047</td><td>0</td></tr><tr><th>12</th><td>0.468639</td><td>0.00765101</td><td>1</td></tr><tr><th>13</th><td>0.00729636</td><td>0.729195</td><td>0</td></tr><tr><th>14</th><td>0.104475</td><td>0.55613</td><td>1</td></tr><tr><th>15</th><td>0.106837</td><td>0.491178</td><td>1</td></tr><tr><th>16</th><td>0.276286</td><td>0.0807866</td><td>0</td></tr><tr><th>17</th><td>0.552711</td><td>0.286191</td><td>1</td></tr><tr><th>18</th><td>0.179894</td><td>0.589334</td><td>0</td></tr><tr><th>19</th><td>0.382572</td><td>0.591893</td><td>1</td></tr><tr><th>20</th><td>0.275897</td><td>0.178368</td><td>1</td></tr><tr><th>21</th><td>0.280373</td><td>0.276583</td><td>1</td></tr><tr><th>22</th><td>0.949553</td><td>0.595139</td><td>1</td></tr><tr><th>23</th><td>0.180489</td><td>0.532398</td><td>1</td></tr><tr><th>24</th><td>0.571393</td><td>0.658598</td><td>0</td></tr><tr><th>25</th><td>0.112021</td><td>0.599894</td><td>1</td></tr><tr><th>26</th><td>0.661102</td><td>0.805487</td><td>1</td></tr><tr><th>27</th><td>0.438991</td><td>0.510655</td><td>1</td></tr><tr><th>28</th><td>0.307432</td><td>0.570435</td><td>1</td></tr><tr><th>29</th><td>0.728179</td><td>0.811442</td><td>0</td></tr><tr><th>30</th><td>0.857817</td><td>0.995248</td><td>0</td></tr><tr><th>&vellip;</th><td>&vellip;</td><td>&vellip;</td><td>&vellip;</td></tr></tbody></table>"
      ],
      "text/latex": [
       "\\begin{tabular}{r|ccc}\n",
       "\t& a & b & c\\\\\n",
       "\t\\hline\n",
       "\t& Float64 & Float64 & Bool\\\\\n",
       "\t\\hline\n",
       "\t1 & 0.925917 & 0.389588 & 0 \\\\\n",
       "\t2 & 0.841932 & 0.276801 & 1 \\\\\n",
       "\t3 & 0.366998 & 0.167371 & 0 \\\\\n",
       "\t4 & 0.775667 & 0.0864964 & 1 \\\\\n",
       "\t5 & 0.331247 & 0.00128394 & 1 \\\\\n",
       "\t6 & 0.123244 & 0.457262 & 1 \\\\\n",
       "\t7 & 0.885265 & 0.975031 & 1 \\\\\n",
       "\t8 & 0.467497 & 0.767182 & 0 \\\\\n",
       "\t9 & 0.075116 & 0.866763 & 0 \\\\\n",
       "\t10 & 0.319431 & 0.979848 & 0 \\\\\n",
       "\t11 & 0.786434 & 0.0293047 & 0 \\\\\n",
       "\t12 & 0.468639 & 0.00765101 & 1 \\\\\n",
       "\t13 & 0.00729636 & 0.729195 & 0 \\\\\n",
       "\t14 & 0.104475 & 0.55613 & 1 \\\\\n",
       "\t15 & 0.106837 & 0.491178 & 1 \\\\\n",
       "\t16 & 0.276286 & 0.0807866 & 0 \\\\\n",
       "\t17 & 0.552711 & 0.286191 & 1 \\\\\n",
       "\t18 & 0.179894 & 0.589334 & 0 \\\\\n",
       "\t19 & 0.382572 & 0.591893 & 1 \\\\\n",
       "\t20 & 0.275897 & 0.178368 & 1 \\\\\n",
       "\t21 & 0.280373 & 0.276583 & 1 \\\\\n",
       "\t22 & 0.949553 & 0.595139 & 1 \\\\\n",
       "\t23 & 0.180489 & 0.532398 & 1 \\\\\n",
       "\t24 & 0.571393 & 0.658598 & 0 \\\\\n",
       "\t25 & 0.112021 & 0.599894 & 1 \\\\\n",
       "\t26 & 0.661102 & 0.805487 & 1 \\\\\n",
       "\t27 & 0.438991 & 0.510655 & 1 \\\\\n",
       "\t28 & 0.307432 & 0.570435 & 1 \\\\\n",
       "\t29 & 0.728179 & 0.811442 & 0 \\\\\n",
       "\t30 & 0.857817 & 0.995248 & 0 \\\\\n",
       "\t$\\dots$ & $\\dots$ & $\\dots$ & $\\dots$ \\\\\n",
       "\\end{tabular}\n"
      ],
      "text/plain": [
       "10000×3 DataFrame\n",
       "│ Row   │ a        │ b          │ c    │\n",
       "│       │ \u001b[90mFloat64\u001b[39m  │ \u001b[90mFloat64\u001b[39m    │ \u001b[90mBool\u001b[39m │\n",
       "├───────┼──────────┼────────────┼──────┤\n",
       "│ 1     │ 0.925917 │ 0.389588   │ 0    │\n",
       "│ 2     │ 0.841932 │ 0.276801   │ 1    │\n",
       "│ 3     │ 0.366998 │ 0.167371   │ 0    │\n",
       "│ 4     │ 0.775667 │ 0.0864964  │ 1    │\n",
       "│ 5     │ 0.331247 │ 0.00128394 │ 1    │\n",
       "│ 6     │ 0.123244 │ 0.457262   │ 1    │\n",
       "│ 7     │ 0.885265 │ 0.975031   │ 1    │\n",
       "│ 8     │ 0.467497 │ 0.767182   │ 0    │\n",
       "│ 9     │ 0.075116 │ 0.866763   │ 0    │\n",
       "│ 10    │ 0.319431 │ 0.979848   │ 0    │\n",
       "⋮\n",
       "│ 9990  │ 0.790729 │ 0.827537   │ 1    │\n",
       "│ 9991  │ 0.698638 │ 0.422611   │ 1    │\n",
       "│ 9992  │ 0.601989 │ 0.0270746  │ 0    │\n",
       "│ 9993  │ 0.844225 │ 0.392945   │ 1    │\n",
       "│ 9994  │ 0.571843 │ 0.431097   │ 0    │\n",
       "│ 9995  │ 0.919292 │ 0.593459   │ 1    │\n",
       "│ 9996  │ 0.844214 │ 0.906676   │ 0    │\n",
       "│ 9997  │ 0.897126 │ 0.733824   │ 1    │\n",
       "│ 9998  │ 0.451935 │ 0.104735   │ 1    │\n",
       "│ 9999  │ 0.597697 │ 0.992007   │ 0    │\n",
       "│ 10000 │ 0.114776 │ 0.836042   │ 0    │"
      ]
     },
     "execution_count": 3,
     "metadata": {},
     "output_type": "execute_result"
    }
   ],
   "source": [
    "df = DataFrame(\n",
    "    a = rand(10_000),\n",
    "    b = rand(10_000),\n",
    "    c = rand(Bool, 10_000),\n",
    ")"
   ]
  },
  {
   "cell_type": "code",
   "execution_count": 4,
   "metadata": {},
   "outputs": [
    {
     "data": {
      "text/plain": []
     },
     "execution_count": 4,
     "metadata": {},
     "output_type": "execute_result"
    },
    {
     "name": "stdout",
     "output_type": "stream",
     "text": [
      "10000×3 DataFrame\n",
      "│ Row   │ a        │ b          │ d        │\n",
      "│       │ \u001b[90mFloat64\u001b[39m  │ \u001b[90mFloat64\u001b[39m    │ \u001b[90mFloat64\u001b[39m  │\n",
      "├───────┼──────────┼────────────┼──────────┤\n",
      "│ 1     │ 0.925917 │ 0.389588   │ 1.3155   │\n",
      "│ 2     │ 0.841932 │ 0.276801   │ 1.11873  │\n",
      "│ 3     │ 0.366998 │ 0.167371   │ 0.534369 │\n",
      "│ 4     │ 0.775667 │ 0.0864964  │ 0.862163 │\n",
      "│ 5     │ 0.331247 │ 0.00128394 │ 0.332531 │\n",
      "│ 6     │ 0.123244 │ 0.457262   │ 0.580506 │\n",
      "│ 7     │ 0.885265 │ 0.975031   │ 1.8603   │\n",
      "│ 8     │ 0.467497 │ 0.767182   │ 1.23468  │\n",
      "│ 9     │ 0.075116 │ 0.866763   │ 0.941879 │\n",
      "│ 10    │ 0.319431 │ 0.979848   │ 1.29928  │\n",
      "⋮\n",
      "│ 9990  │ 0.790729 │ 0.827537   │ 1.61827  │\n",
      "│ 9991  │ 0.698638 │ 0.422611   │ 1.12125  │\n",
      "│ 9992  │ 0.601989 │ 0.0270746  │ 0.629064 │\n",
      "│ 9993  │ 0.844225 │ 0.392945   │ 1.23717  │\n",
      "│ 9994  │ 0.571843 │ 0.431097   │ 1.00294  │\n",
      "│ 9995  │ 0.919292 │ 0.593459   │ 1.51275  │\n",
      "│ 9996  │ 0.844214 │ 0.906676   │ 1.75089  │\n",
      "│ 9997  │ 0.897126 │ 0.733824   │ 1.63095  │\n",
      "│ 9998  │ 0.451935 │ 0.104735   │ 0.556671 │\n",
      "│ 9999  │ 0.597697 │ 0.992007   │ 1.5897   │\n",
      "│ 10000 │ 0.114776 │ 0.836042   │ 0.950818 │"
     ]
    }
   ],
   "source": [
    "@select(df, a, b, d = a + b)"
   ]
  },
  {
   "cell_type": "code",
   "execution_count": 5,
   "metadata": {},
   "outputs": [
    {
     "data": {
      "text/plain": []
     },
     "execution_count": 5,
     "metadata": {},
     "output_type": "execute_result"
    },
    {
     "name": "stdout",
     "output_type": "stream",
     "text": [
      "4986×3 DataFrame\n",
      "│ Row  │ a        │ b          │ c    │\n",
      "│      │ \u001b[90mFloat64\u001b[39m  │ \u001b[90mFloat64\u001b[39m    │ \u001b[90mBool\u001b[39m │\n",
      "├──────┼──────────┼────────────┼──────┤\n",
      "│ 1    │ 0.925917 │ 0.389588   │ 0    │\n",
      "│ 2    │ 0.841932 │ 0.276801   │ 1    │\n",
      "│ 3    │ 0.366998 │ 0.167371   │ 0    │\n",
      "│ 4    │ 0.775667 │ 0.0864964  │ 1    │\n",
      "│ 5    │ 0.331247 │ 0.00128394 │ 1    │\n",
      "│ 6    │ 0.786434 │ 0.0293047  │ 0    │\n",
      "│ 7    │ 0.468639 │ 0.00765101 │ 1    │\n",
      "│ 8    │ 0.276286 │ 0.0807866  │ 0    │\n",
      "│ 9    │ 0.552711 │ 0.286191   │ 1    │\n",
      "│ 10   │ 0.275897 │ 0.178368   │ 1    │\n",
      "⋮\n",
      "│ 4976 │ 0.735156 │ 0.261879   │ 1    │\n",
      "│ 4977 │ 0.886085 │ 0.563352   │ 0    │\n",
      "│ 4978 │ 0.490348 │ 0.116507   │ 1    │\n",
      "│ 4979 │ 0.554883 │ 0.396594   │ 0    │\n",
      "│ 4980 │ 0.698638 │ 0.422611   │ 1    │\n",
      "│ 4981 │ 0.601989 │ 0.0270746  │ 0    │\n",
      "│ 4982 │ 0.844225 │ 0.392945   │ 1    │\n",
      "│ 4983 │ 0.571843 │ 0.431097   │ 0    │\n",
      "│ 4984 │ 0.919292 │ 0.593459   │ 1    │\n",
      "│ 4985 │ 0.897126 │ 0.733824   │ 1    │\n",
      "│ 4986 │ 0.451935 │ 0.104735   │ 1    │"
     ]
    }
   ],
   "source": [
    "@where(df, a > b)"
   ]
  },
  {
   "cell_type": "code",
   "execution_count": 6,
   "metadata": {},
   "outputs": [
    {
     "data": {
      "text/plain": []
     },
     "execution_count": 6,
     "metadata": {},
     "output_type": "execute_result"
    },
    {
     "name": "stdout",
     "output_type": "stream",
     "text": [
      "2×5 DataFrame\n",
      "│ Row │ !c   │ m_a      │ m_b      │ n_a   │ n_b   │\n",
      "│     │ \u001b[90mBool\u001b[39m │ \u001b[90mFloat64\u001b[39m  │ \u001b[90mFloat64\u001b[39m  │ \u001b[90mInt64\u001b[39m │ \u001b[90mInt64\u001b[39m │\n",
      "├─────┼──────┼──────────┼──────────┼───────┼───────┤\n",
      "│ 1   │ 1    │ 0.50305  │ 0.494135 │ 4977  │ 4977  │\n",
      "│ 2   │ 0    │ 0.493241 │ 0.504268 │ 5023  │ 5023  │"
     ]
    }
   ],
   "source": [
    "@aggregate_vector(\n",
    "    @group_by(df, !c),\n",
    "    m_a = mean(a),\n",
    "    m_b = mean(b),\n",
    "    n_a = length(a),\n",
    "    n_b = length(b),\n",
    ")"
   ]
  },
  {
   "cell_type": "code",
   "execution_count": 7,
   "metadata": {},
   "outputs": [
    {
     "data": {
      "text/plain": []
     },
     "execution_count": 7,
     "metadata": {},
     "output_type": "execute_result"
    },
    {
     "name": "stdout",
     "output_type": "stream",
     "text": [
      "10000×3 DataFrame\n",
      "│ Row   │ a          │ b          │ c    │\n",
      "│       │ \u001b[90mFloat64\u001b[39m    │ \u001b[90mFloat64\u001b[39m    │ \u001b[90mBool\u001b[39m │\n",
      "├───────┼────────────┼────────────┼──────┤\n",
      "│ 1     │ 0.00889487 │ 0.012526   │ 0    │\n",
      "│ 2     │ 0.00788679 │ 0.0158081  │ 0    │\n",
      "│ 3     │ 0.0132924  │ 0.0119411  │ 0    │\n",
      "│ 4     │ 0.0282309  │ 4.7734e-5  │ 1    │\n",
      "│ 5     │ 0.0104398  │ 0.0195211  │ 1    │\n",
      "│ 6     │ 0.0059419  │ 0.0305527  │ 1    │\n",
      "│ 7     │ 0.00318514 │ 0.0353464  │ 1    │\n",
      "│ 8     │ 0.00940498 │ 0.0294835  │ 0    │\n",
      "│ 9     │ 0.0123159  │ 0.0294189  │ 0    │\n",
      "│ 10    │ 0.0358268  │ 0.00609674 │ 1    │\n",
      "⋮\n",
      "│ 9990  │ 0.995338   │ 0.959325   │ 0    │\n",
      "│ 9991  │ 0.968485   │ 0.989534   │ 1    │\n",
      "│ 9992  │ 0.999272   │ 0.962194   │ 0    │\n",
      "│ 9993  │ 0.992854   │ 0.969188   │ 1    │\n",
      "│ 9994  │ 0.984692   │ 0.979936   │ 1    │\n",
      "│ 9995  │ 0.968387   │ 0.999768   │ 0    │\n",
      "│ 9996  │ 0.999072   │ 0.970213   │ 1    │\n",
      "│ 9997  │ 0.989329   │ 0.981392   │ 1    │\n",
      "│ 9998  │ 0.999908   │ 0.97973    │ 1    │\n",
      "│ 9999  │ 0.992096   │ 0.991456   │ 1    │\n",
      "│ 10000 │ 0.993785   │ 0.99403    │ 1    │"
     ]
    }
   ],
   "source": [
    "@order_by(df, a + b)"
   ]
  },
  {
   "cell_type": "code",
   "execution_count": 8,
   "metadata": {},
   "outputs": [
    {
     "data": {
      "text/plain": []
     },
     "execution_count": 8,
     "metadata": {},
     "output_type": "execute_result"
    },
    {
     "name": "stdout",
     "output_type": "stream",
     "text": [
      "10×3 DataFrame\n",
      "│ Row │ a        │ b          │ c    │\n",
      "│     │ \u001b[90mFloat64\u001b[39m  │ \u001b[90mFloat64\u001b[39m    │ \u001b[90mBool\u001b[39m │\n",
      "├─────┼──────────┼────────────┼──────┤\n",
      "│ 1   │ 0.925917 │ 0.389588   │ 0    │\n",
      "│ 2   │ 0.841932 │ 0.276801   │ 1    │\n",
      "│ 3   │ 0.366998 │ 0.167371   │ 0    │\n",
      "│ 4   │ 0.775667 │ 0.0864964  │ 1    │\n",
      "│ 5   │ 0.331247 │ 0.00128394 │ 1    │\n",
      "│ 6   │ 0.123244 │ 0.457262   │ 1    │\n",
      "│ 7   │ 0.885265 │ 0.975031   │ 1    │\n",
      "│ 8   │ 0.467497 │ 0.767182   │ 0    │\n",
      "│ 9   │ 0.075116 │ 0.866763   │ 0    │\n",
      "│ 10  │ 0.319431 │ 0.979848   │ 0    │"
     ]
    }
   ],
   "source": [
    "@limit(df, 10)"
   ]
  },
  {
   "cell_type": "markdown",
   "metadata": {},
   "source": [
    "To make it easier to understand how things work, the examples above all exploit\n",
    "the fact that Volcanito's user-facing macros construct `LogicalNode` objects\n",
    "that automatically materialize the result of a query whenever `Base.show` is\n",
    "called. This makes it seem as is the user-facing macros operate eagerly, but\n",
    "the truth is that they operate lazily and produce `LogicalNode` objects rather\n",
    "than DataFrames. If you want to transform a `LogicalNode` object into a full\n",
    "DataFrame, you should explicitly call `Volcanito.materialize`."
   ]
  },
  {
   "cell_type": "code",
   "execution_count": 9,
   "metadata": {},
   "outputs": [
    {
     "name": "stderr",
     "output_type": "stream",
     "text": [
      "\u001b[32m\u001b[1m Activating\u001b[22m\u001b[39m environment at `~/Dropbox (Personal)/Coding Projects/Volcanito/Project.toml`\n"
     ]
    }
   ],
   "source": [
    "import Pkg\n",
    "Pkg.activate(\"..\")"
   ]
  },
  {
   "cell_type": "code",
   "execution_count": 10,
   "metadata": {},
   "outputs": [],
   "source": [
    "import DataFrames: DataFrame\n",
    "\n",
    "import Volcanito:\n",
    "    @select,\n",
    "    materialize"
   ]
  },
  {
   "cell_type": "code",
   "execution_count": 11,
   "metadata": {},
   "outputs": [
    {
     "data": {
      "text/html": [
       "<table class=\"data-frame\"><thead><tr><th></th><th>a</th><th>b</th><th>c</th></tr><tr><th></th><th>Float64</th><th>Float64</th><th>Bool</th></tr></thead><tbody><p>10,000 rows × 3 columns</p><tr><th>1</th><td>0.783001</td><td>0.536788</td><td>0</td></tr><tr><th>2</th><td>0.789769</td><td>0.262531</td><td>0</td></tr><tr><th>3</th><td>0.674107</td><td>0.409885</td><td>0</td></tr><tr><th>4</th><td>0.807469</td><td>0.126618</td><td>0</td></tr><tr><th>5</th><td>0.814042</td><td>0.769956</td><td>0</td></tr><tr><th>6</th><td>0.578176</td><td>0.392734</td><td>0</td></tr><tr><th>7</th><td>0.449241</td><td>0.933036</td><td>1</td></tr><tr><th>8</th><td>0.119245</td><td>0.130244</td><td>0</td></tr><tr><th>9</th><td>0.244591</td><td>0.294622</td><td>1</td></tr><tr><th>10</th><td>0.229329</td><td>0.788812</td><td>1</td></tr><tr><th>11</th><td>0.722772</td><td>0.176107</td><td>1</td></tr><tr><th>12</th><td>0.959484</td><td>0.916127</td><td>0</td></tr><tr><th>13</th><td>0.234153</td><td>0.361065</td><td>1</td></tr><tr><th>14</th><td>0.787865</td><td>0.491847</td><td>1</td></tr><tr><th>15</th><td>0.833405</td><td>0.433467</td><td>1</td></tr><tr><th>16</th><td>0.69053</td><td>0.259811</td><td>1</td></tr><tr><th>17</th><td>0.692879</td><td>0.533481</td><td>1</td></tr><tr><th>18</th><td>0.772488</td><td>0.713246</td><td>0</td></tr><tr><th>19</th><td>0.122867</td><td>0.390342</td><td>0</td></tr><tr><th>20</th><td>0.235952</td><td>0.0261728</td><td>0</td></tr><tr><th>21</th><td>0.0778597</td><td>0.549226</td><td>1</td></tr><tr><th>22</th><td>0.621934</td><td>0.944564</td><td>1</td></tr><tr><th>23</th><td>0.656086</td><td>0.982097</td><td>1</td></tr><tr><th>24</th><td>0.26182</td><td>0.820767</td><td>0</td></tr><tr><th>25</th><td>0.948613</td><td>0.840969</td><td>0</td></tr><tr><th>26</th><td>0.978246</td><td>0.97377</td><td>0</td></tr><tr><th>27</th><td>0.555125</td><td>0.711087</td><td>0</td></tr><tr><th>28</th><td>0.0183052</td><td>0.380456</td><td>1</td></tr><tr><th>29</th><td>0.959783</td><td>0.269695</td><td>0</td></tr><tr><th>30</th><td>0.227642</td><td>0.594986</td><td>0</td></tr><tr><th>&vellip;</th><td>&vellip;</td><td>&vellip;</td><td>&vellip;</td></tr></tbody></table>"
      ],
      "text/latex": [
       "\\begin{tabular}{r|ccc}\n",
       "\t& a & b & c\\\\\n",
       "\t\\hline\n",
       "\t& Float64 & Float64 & Bool\\\\\n",
       "\t\\hline\n",
       "\t1 & 0.783001 & 0.536788 & 0 \\\\\n",
       "\t2 & 0.789769 & 0.262531 & 0 \\\\\n",
       "\t3 & 0.674107 & 0.409885 & 0 \\\\\n",
       "\t4 & 0.807469 & 0.126618 & 0 \\\\\n",
       "\t5 & 0.814042 & 0.769956 & 0 \\\\\n",
       "\t6 & 0.578176 & 0.392734 & 0 \\\\\n",
       "\t7 & 0.449241 & 0.933036 & 1 \\\\\n",
       "\t8 & 0.119245 & 0.130244 & 0 \\\\\n",
       "\t9 & 0.244591 & 0.294622 & 1 \\\\\n",
       "\t10 & 0.229329 & 0.788812 & 1 \\\\\n",
       "\t11 & 0.722772 & 0.176107 & 1 \\\\\n",
       "\t12 & 0.959484 & 0.916127 & 0 \\\\\n",
       "\t13 & 0.234153 & 0.361065 & 1 \\\\\n",
       "\t14 & 0.787865 & 0.491847 & 1 \\\\\n",
       "\t15 & 0.833405 & 0.433467 & 1 \\\\\n",
       "\t16 & 0.69053 & 0.259811 & 1 \\\\\n",
       "\t17 & 0.692879 & 0.533481 & 1 \\\\\n",
       "\t18 & 0.772488 & 0.713246 & 0 \\\\\n",
       "\t19 & 0.122867 & 0.390342 & 0 \\\\\n",
       "\t20 & 0.235952 & 0.0261728 & 0 \\\\\n",
       "\t21 & 0.0778597 & 0.549226 & 1 \\\\\n",
       "\t22 & 0.621934 & 0.944564 & 1 \\\\\n",
       "\t23 & 0.656086 & 0.982097 & 1 \\\\\n",
       "\t24 & 0.26182 & 0.820767 & 0 \\\\\n",
       "\t25 & 0.948613 & 0.840969 & 0 \\\\\n",
       "\t26 & 0.978246 & 0.97377 & 0 \\\\\n",
       "\t27 & 0.555125 & 0.711087 & 0 \\\\\n",
       "\t28 & 0.0183052 & 0.380456 & 1 \\\\\n",
       "\t29 & 0.959783 & 0.269695 & 0 \\\\\n",
       "\t30 & 0.227642 & 0.594986 & 0 \\\\\n",
       "\t$\\dots$ & $\\dots$ & $\\dots$ & $\\dots$ \\\\\n",
       "\\end{tabular}\n"
      ],
      "text/plain": [
       "10000×3 DataFrame\n",
       "│ Row   │ a         │ b        │ c    │\n",
       "│       │ \u001b[90mFloat64\u001b[39m   │ \u001b[90mFloat64\u001b[39m  │ \u001b[90mBool\u001b[39m │\n",
       "├───────┼───────────┼──────────┼──────┤\n",
       "│ 1     │ 0.783001  │ 0.536788 │ 0    │\n",
       "│ 2     │ 0.789769  │ 0.262531 │ 0    │\n",
       "│ 3     │ 0.674107  │ 0.409885 │ 0    │\n",
       "│ 4     │ 0.807469  │ 0.126618 │ 0    │\n",
       "│ 5     │ 0.814042  │ 0.769956 │ 0    │\n",
       "│ 6     │ 0.578176  │ 0.392734 │ 0    │\n",
       "│ 7     │ 0.449241  │ 0.933036 │ 1    │\n",
       "│ 8     │ 0.119245  │ 0.130244 │ 0    │\n",
       "│ 9     │ 0.244591  │ 0.294622 │ 1    │\n",
       "│ 10    │ 0.229329  │ 0.788812 │ 1    │\n",
       "⋮\n",
       "│ 9990  │ 0.390972  │ 0.987166 │ 0    │\n",
       "│ 9991  │ 0.775135  │ 0.722211 │ 0    │\n",
       "│ 9992  │ 0.368282  │ 0.871369 │ 0    │\n",
       "│ 9993  │ 0.0368812 │ 0.01269  │ 1    │\n",
       "│ 9994  │ 0.538873  │ 0.758099 │ 1    │\n",
       "│ 9995  │ 0.716272  │ 0.799309 │ 0    │\n",
       "│ 9996  │ 0.510478  │ 0.813239 │ 1    │\n",
       "│ 9997  │ 0.945922  │ 0.879409 │ 0    │\n",
       "│ 9998  │ 0.168199  │ 0.304403 │ 1    │\n",
       "│ 9999  │ 0.830624  │ 0.559135 │ 0    │\n",
       "│ 10000 │ 0.476901  │ 0.893554 │ 0    │"
      ]
     },
     "execution_count": 11,
     "metadata": {},
     "output_type": "execute_result"
    }
   ],
   "source": [
    "df = DataFrame(\n",
    "    a = rand(10_000),\n",
    "    b = rand(10_000),\n",
    "    c = rand(Bool, 10_000),\n",
    ")"
   ]
  },
  {
   "cell_type": "code",
   "execution_count": 12,
   "metadata": {},
   "outputs": [
    {
     "data": {
      "text/plain": []
     },
     "execution_count": 12,
     "metadata": {},
     "output_type": "execute_result"
    },
    {
     "name": "stdout",
     "output_type": "stream",
     "text": [
      "10000×3 DataFrame\n",
      "│ Row   │ a         │ b        │ d         │\n",
      "│       │ \u001b[90mFloat64\u001b[39m   │ \u001b[90mFloat64\u001b[39m  │ \u001b[90mFloat64\u001b[39m   │\n",
      "├───────┼───────────┼──────────┼───────────┤\n",
      "│ 1     │ 0.783001  │ 0.536788 │ 1.31979   │\n",
      "│ 2     │ 0.789769  │ 0.262531 │ 1.0523    │\n",
      "│ 3     │ 0.674107  │ 0.409885 │ 1.08399   │\n",
      "│ 4     │ 0.807469  │ 0.126618 │ 0.934087  │\n",
      "│ 5     │ 0.814042  │ 0.769956 │ 1.584     │\n",
      "│ 6     │ 0.578176  │ 0.392734 │ 0.97091   │\n",
      "│ 7     │ 0.449241  │ 0.933036 │ 1.38228   │\n",
      "│ 8     │ 0.119245  │ 0.130244 │ 0.249488  │\n",
      "│ 9     │ 0.244591  │ 0.294622 │ 0.539213  │\n",
      "│ 10    │ 0.229329  │ 0.788812 │ 1.01814   │\n",
      "⋮\n",
      "│ 9990  │ 0.390972  │ 0.987166 │ 1.37814   │\n",
      "│ 9991  │ 0.775135  │ 0.722211 │ 1.49735   │\n",
      "│ 9992  │ 0.368282  │ 0.871369 │ 1.23965   │\n",
      "│ 9993  │ 0.0368812 │ 0.01269  │ 0.0495713 │\n",
      "│ 9994  │ 0.538873  │ 0.758099 │ 1.29697   │\n",
      "│ 9995  │ 0.716272  │ 0.799309 │ 1.51558   │\n",
      "│ 9996  │ 0.510478  │ 0.813239 │ 1.32372   │\n",
      "│ 9997  │ 0.945922  │ 0.879409 │ 1.82533   │\n",
      "│ 9998  │ 0.168199  │ 0.304403 │ 0.472602  │\n",
      "│ 9999  │ 0.830624  │ 0.559135 │ 1.38976   │\n",
      "│ 10000 │ 0.476901  │ 0.893554 │ 1.37046   │"
     ]
    }
   ],
   "source": [
    "plan = @select(df, a, b, d = a + b)"
   ]
  },
  {
   "cell_type": "code",
   "execution_count": 13,
   "metadata": {},
   "outputs": [
    {
     "data": {
      "text/plain": [
       "Volcanito.Projection{DataFrame,Tuple{Volcanito.Expression{Symbol,1,Symbol,var\"#27#33\",var\"#28#34\"},Volcanito.Expression{Symbol,1,Symbol,var\"#29#35\",var\"#30#36\"},Volcanito.Expression{Expr,2,Expr,var\"#31#37\",var\"#32#38\"}}}"
      ]
     },
     "execution_count": 13,
     "metadata": {},
     "output_type": "execute_result"
    }
   ],
   "source": [
    "typeof(plan)"
   ]
  },
  {
   "cell_type": "code",
   "execution_count": 14,
   "metadata": {},
   "outputs": [
    {
     "data": {
      "text/html": [
       "<table class=\"data-frame\"><thead><tr><th></th><th>a</th><th>b</th><th>d</th></tr><tr><th></th><th>Float64</th><th>Float64</th><th>Float64</th></tr></thead><tbody><p>10,000 rows × 3 columns</p><tr><th>1</th><td>0.783001</td><td>0.536788</td><td>1.31979</td></tr><tr><th>2</th><td>0.789769</td><td>0.262531</td><td>1.0523</td></tr><tr><th>3</th><td>0.674107</td><td>0.409885</td><td>1.08399</td></tr><tr><th>4</th><td>0.807469</td><td>0.126618</td><td>0.934087</td></tr><tr><th>5</th><td>0.814042</td><td>0.769956</td><td>1.584</td></tr><tr><th>6</th><td>0.578176</td><td>0.392734</td><td>0.97091</td></tr><tr><th>7</th><td>0.449241</td><td>0.933036</td><td>1.38228</td></tr><tr><th>8</th><td>0.119245</td><td>0.130244</td><td>0.249488</td></tr><tr><th>9</th><td>0.244591</td><td>0.294622</td><td>0.539213</td></tr><tr><th>10</th><td>0.229329</td><td>0.788812</td><td>1.01814</td></tr><tr><th>11</th><td>0.722772</td><td>0.176107</td><td>0.898879</td></tr><tr><th>12</th><td>0.959484</td><td>0.916127</td><td>1.87561</td></tr><tr><th>13</th><td>0.234153</td><td>0.361065</td><td>0.595218</td></tr><tr><th>14</th><td>0.787865</td><td>0.491847</td><td>1.27971</td></tr><tr><th>15</th><td>0.833405</td><td>0.433467</td><td>1.26687</td></tr><tr><th>16</th><td>0.69053</td><td>0.259811</td><td>0.950341</td></tr><tr><th>17</th><td>0.692879</td><td>0.533481</td><td>1.22636</td></tr><tr><th>18</th><td>0.772488</td><td>0.713246</td><td>1.48573</td></tr><tr><th>19</th><td>0.122867</td><td>0.390342</td><td>0.513209</td></tr><tr><th>20</th><td>0.235952</td><td>0.0261728</td><td>0.262125</td></tr><tr><th>21</th><td>0.0778597</td><td>0.549226</td><td>0.627086</td></tr><tr><th>22</th><td>0.621934</td><td>0.944564</td><td>1.5665</td></tr><tr><th>23</th><td>0.656086</td><td>0.982097</td><td>1.63818</td></tr><tr><th>24</th><td>0.26182</td><td>0.820767</td><td>1.08259</td></tr><tr><th>25</th><td>0.948613</td><td>0.840969</td><td>1.78958</td></tr><tr><th>26</th><td>0.978246</td><td>0.97377</td><td>1.95202</td></tr><tr><th>27</th><td>0.555125</td><td>0.711087</td><td>1.26621</td></tr><tr><th>28</th><td>0.0183052</td><td>0.380456</td><td>0.398761</td></tr><tr><th>29</th><td>0.959783</td><td>0.269695</td><td>1.22948</td></tr><tr><th>30</th><td>0.227642</td><td>0.594986</td><td>0.822627</td></tr><tr><th>&vellip;</th><td>&vellip;</td><td>&vellip;</td><td>&vellip;</td></tr></tbody></table>"
      ],
      "text/latex": [
       "\\begin{tabular}{r|ccc}\n",
       "\t& a & b & d\\\\\n",
       "\t\\hline\n",
       "\t& Float64 & Float64 & Float64\\\\\n",
       "\t\\hline\n",
       "\t1 & 0.783001 & 0.536788 & 1.31979 \\\\\n",
       "\t2 & 0.789769 & 0.262531 & 1.0523 \\\\\n",
       "\t3 & 0.674107 & 0.409885 & 1.08399 \\\\\n",
       "\t4 & 0.807469 & 0.126618 & 0.934087 \\\\\n",
       "\t5 & 0.814042 & 0.769956 & 1.584 \\\\\n",
       "\t6 & 0.578176 & 0.392734 & 0.97091 \\\\\n",
       "\t7 & 0.449241 & 0.933036 & 1.38228 \\\\\n",
       "\t8 & 0.119245 & 0.130244 & 0.249488 \\\\\n",
       "\t9 & 0.244591 & 0.294622 & 0.539213 \\\\\n",
       "\t10 & 0.229329 & 0.788812 & 1.01814 \\\\\n",
       "\t11 & 0.722772 & 0.176107 & 0.898879 \\\\\n",
       "\t12 & 0.959484 & 0.916127 & 1.87561 \\\\\n",
       "\t13 & 0.234153 & 0.361065 & 0.595218 \\\\\n",
       "\t14 & 0.787865 & 0.491847 & 1.27971 \\\\\n",
       "\t15 & 0.833405 & 0.433467 & 1.26687 \\\\\n",
       "\t16 & 0.69053 & 0.259811 & 0.950341 \\\\\n",
       "\t17 & 0.692879 & 0.533481 & 1.22636 \\\\\n",
       "\t18 & 0.772488 & 0.713246 & 1.48573 \\\\\n",
       "\t19 & 0.122867 & 0.390342 & 0.513209 \\\\\n",
       "\t20 & 0.235952 & 0.0261728 & 0.262125 \\\\\n",
       "\t21 & 0.0778597 & 0.549226 & 0.627086 \\\\\n",
       "\t22 & 0.621934 & 0.944564 & 1.5665 \\\\\n",
       "\t23 & 0.656086 & 0.982097 & 1.63818 \\\\\n",
       "\t24 & 0.26182 & 0.820767 & 1.08259 \\\\\n",
       "\t25 & 0.948613 & 0.840969 & 1.78958 \\\\\n",
       "\t26 & 0.978246 & 0.97377 & 1.95202 \\\\\n",
       "\t27 & 0.555125 & 0.711087 & 1.26621 \\\\\n",
       "\t28 & 0.0183052 & 0.380456 & 0.398761 \\\\\n",
       "\t29 & 0.959783 & 0.269695 & 1.22948 \\\\\n",
       "\t30 & 0.227642 & 0.594986 & 0.822627 \\\\\n",
       "\t$\\dots$ & $\\dots$ & $\\dots$ & $\\dots$ \\\\\n",
       "\\end{tabular}\n"
      ],
      "text/plain": [
       "10000×3 DataFrame\n",
       "│ Row   │ a         │ b        │ d         │\n",
       "│       │ \u001b[90mFloat64\u001b[39m   │ \u001b[90mFloat64\u001b[39m  │ \u001b[90mFloat64\u001b[39m   │\n",
       "├───────┼───────────┼──────────┼───────────┤\n",
       "│ 1     │ 0.783001  │ 0.536788 │ 1.31979   │\n",
       "│ 2     │ 0.789769  │ 0.262531 │ 1.0523    │\n",
       "│ 3     │ 0.674107  │ 0.409885 │ 1.08399   │\n",
       "│ 4     │ 0.807469  │ 0.126618 │ 0.934087  │\n",
       "│ 5     │ 0.814042  │ 0.769956 │ 1.584     │\n",
       "│ 6     │ 0.578176  │ 0.392734 │ 0.97091   │\n",
       "│ 7     │ 0.449241  │ 0.933036 │ 1.38228   │\n",
       "│ 8     │ 0.119245  │ 0.130244 │ 0.249488  │\n",
       "│ 9     │ 0.244591  │ 0.294622 │ 0.539213  │\n",
       "│ 10    │ 0.229329  │ 0.788812 │ 1.01814   │\n",
       "⋮\n",
       "│ 9990  │ 0.390972  │ 0.987166 │ 1.37814   │\n",
       "│ 9991  │ 0.775135  │ 0.722211 │ 1.49735   │\n",
       "│ 9992  │ 0.368282  │ 0.871369 │ 1.23965   │\n",
       "│ 9993  │ 0.0368812 │ 0.01269  │ 0.0495713 │\n",
       "│ 9994  │ 0.538873  │ 0.758099 │ 1.29697   │\n",
       "│ 9995  │ 0.716272  │ 0.799309 │ 1.51558   │\n",
       "│ 9996  │ 0.510478  │ 0.813239 │ 1.32372   │\n",
       "│ 9997  │ 0.945922  │ 0.879409 │ 1.82533   │\n",
       "│ 9998  │ 0.168199  │ 0.304403 │ 0.472602  │\n",
       "│ 9999  │ 0.830624  │ 0.559135 │ 1.38976   │\n",
       "│ 10000 │ 0.476901  │ 0.893554 │ 1.37046   │"
      ]
     },
     "execution_count": 14,
     "metadata": {},
     "output_type": "execute_result"
    }
   ],
   "source": [
    "df = materialize(plan)"
   ]
  },
  {
   "cell_type": "code",
   "execution_count": 15,
   "metadata": {},
   "outputs": [
    {
     "data": {
      "text/plain": [
       "DataFrame"
      ]
     },
     "execution_count": 15,
     "metadata": {},
     "output_type": "execute_result"
    }
   ],
   "source": [
    "typeof(df)"
   ]
  },
  {
   "cell_type": "markdown",
   "metadata": {},
   "source": [
    "# Expression Rewrites\n",
    "\n",
    "To simplify working with data, the macros involve rewrite passes to automate\n",
    "several tedious users otherwise do manually.\n",
    "\n",
    "## Automatic Three-Valued Logic\n",
    "\n",
    "Three-valued logic works even with short-circuiting Boolean operators:"
   ]
  },
  {
   "cell_type": "code",
   "execution_count": 16,
   "metadata": {},
   "outputs": [
    {
     "name": "stderr",
     "output_type": "stream",
     "text": [
      "\u001b[32m\u001b[1m Activating\u001b[22m\u001b[39m environment at `~/Dropbox (Personal)/Coding Projects/Volcanito/Project.toml`\n"
     ]
    }
   ],
   "source": [
    "import Pkg\n",
    "Pkg.activate(\"..\")"
   ]
  },
  {
   "cell_type": "code",
   "execution_count": 17,
   "metadata": {},
   "outputs": [],
   "source": [
    "import DataFrames: DataFrame\n",
    "\n",
    "import Volcanito: @where"
   ]
  },
  {
   "cell_type": "code",
   "execution_count": 18,
   "metadata": {},
   "outputs": [
    {
     "data": {
      "text/html": [
       "<table class=\"data-frame\"><thead><tr><th></th><th>a</th><th>b</th></tr><tr><th></th><th>Float64?</th><th>Float64?</th></tr></thead><tbody><p>4 rows × 2 columns</p><tr><th>1</th><td><em>missing</em></td><td><em>missing</em></td></tr><tr><th>2</th><td>0.25</td><td>0.75</td></tr><tr><th>3</th><td>0.5</td><td>0.5</td></tr><tr><th>4</th><td>0.75</td><td>0.25</td></tr></tbody></table>"
      ],
      "text/latex": [
       "\\begin{tabular}{r|cc}\n",
       "\t& a & b\\\\\n",
       "\t\\hline\n",
       "\t& Float64? & Float64?\\\\\n",
       "\t\\hline\n",
       "\t1 & \\emph{missing} & \\emph{missing} \\\\\n",
       "\t2 & 0.25 & 0.75 \\\\\n",
       "\t3 & 0.5 & 0.5 \\\\\n",
       "\t4 & 0.75 & 0.25 \\\\\n",
       "\\end{tabular}\n"
      ],
      "text/plain": [
       "4×2 DataFrame\n",
       "│ Row │ a        │ b        │\n",
       "│     │ \u001b[90mFloat64?\u001b[39m │ \u001b[90mFloat64?\u001b[39m │\n",
       "├─────┼──────────┼──────────┤\n",
       "│ 1   │ \u001b[90mmissing\u001b[39m  │ \u001b[90mmissing\u001b[39m  │\n",
       "│ 2   │ 0.25     │ 0.75     │\n",
       "│ 3   │ 0.5      │ 0.5      │\n",
       "│ 4   │ 0.75     │ 0.25     │"
      ]
     },
     "execution_count": 18,
     "metadata": {},
     "output_type": "execute_result"
    }
   ],
   "source": [
    "df = DataFrame(\n",
    "    a = [missing, 0.25, 0.5, 0.75],\n",
    "    b = [missing, 0.75, 0.5, 0.25],\n",
    ")"
   ]
  },
  {
   "cell_type": "code",
   "execution_count": 19,
   "metadata": {},
   "outputs": [
    {
     "data": {
      "text/plain": [
       "f (generic function with 1 method)"
      ]
     },
     "execution_count": 19,
     "metadata": {},
     "output_type": "execute_result"
    }
   ],
   "source": [
    "function f(x)\n",
    "    println(\"Calling f(x) on x = $x\")\n",
    "    x + 1\n",
    "end"
   ]
  },
  {
   "cell_type": "code",
   "execution_count": 20,
   "metadata": {},
   "outputs": [
    {
     "name": "stdout",
     "output_type": "stream",
     "text": [
      "Calling f(x) on x = missing\n",
      "Calling f(x) on x = missing\n",
      "Calling f(x) on x = 0.25\n",
      "Calling f(x) on x = 0.5\n",
      "Calling f(x) on x = 0.75\n",
      "Calling f(x) on x = 0.25\n"
     ]
    },
    {
     "data": {
      "text/plain": []
     },
     "execution_count": 20,
     "metadata": {},
     "output_type": "execute_result"
    },
    {
     "name": "stdout",
     "output_type": "stream",
     "text": [
      "1×2 DataFrame\n",
      "│ Row │ a        │ b        │\n",
      "│     │ \u001b[90mFloat64?\u001b[39m │ \u001b[90mFloat64?\u001b[39m │\n",
      "├─────┼──────────┼──────────┤\n",
      "│ 1   │ 0.75     │ 0.25     │"
     ]
    }
   ],
   "source": [
    "@where(df, f(a) > 1.5 && f(b) >= 1.25)"
   ]
  },
  {
   "cell_type": "markdown",
   "metadata": {},
   "source": [
    "## Local Variable Interpolation/Splicing\n",
    "\n",
    "Local scalar variables can be interpolated/spliced into expressions:"
   ]
  },
  {
   "cell_type": "code",
   "execution_count": 21,
   "metadata": {},
   "outputs": [
    {
     "name": "stderr",
     "output_type": "stream",
     "text": [
      "\u001b[32m\u001b[1m Activating\u001b[22m\u001b[39m environment at `~/Dropbox (Personal)/Coding Projects/Volcanito/Project.toml`\n"
     ]
    }
   ],
   "source": [
    "import Pkg\n",
    "Pkg.activate(\"..\")"
   ]
  },
  {
   "cell_type": "code",
   "execution_count": 22,
   "metadata": {},
   "outputs": [],
   "source": [
    "import DataFrames: DataFrame\n",
    "\n",
    "import Volcanito: @where"
   ]
  },
  {
   "cell_type": "code",
   "execution_count": 23,
   "metadata": {},
   "outputs": [
    {
     "data": {
      "text/html": [
       "<table class=\"data-frame\"><thead><tr><th></th><th>a</th><th>b</th></tr><tr><th></th><th>Float64?</th><th>Float64?</th></tr></thead><tbody><p>4 rows × 2 columns</p><tr><th>1</th><td><em>missing</em></td><td><em>missing</em></td></tr><tr><th>2</th><td>0.25</td><td>0.75</td></tr><tr><th>3</th><td>0.5</td><td>0.5</td></tr><tr><th>4</th><td>0.75</td><td>0.25</td></tr></tbody></table>"
      ],
      "text/latex": [
       "\\begin{tabular}{r|cc}\n",
       "\t& a & b\\\\\n",
       "\t\\hline\n",
       "\t& Float64? & Float64?\\\\\n",
       "\t\\hline\n",
       "\t1 & \\emph{missing} & \\emph{missing} \\\\\n",
       "\t2 & 0.25 & 0.75 \\\\\n",
       "\t3 & 0.5 & 0.5 \\\\\n",
       "\t4 & 0.75 & 0.25 \\\\\n",
       "\\end{tabular}\n"
      ],
      "text/plain": [
       "4×2 DataFrame\n",
       "│ Row │ a        │ b        │\n",
       "│     │ \u001b[90mFloat64?\u001b[39m │ \u001b[90mFloat64?\u001b[39m │\n",
       "├─────┼──────────┼──────────┤\n",
       "│ 1   │ \u001b[90mmissing\u001b[39m  │ \u001b[90mmissing\u001b[39m  │\n",
       "│ 2   │ 0.25     │ 0.75     │\n",
       "│ 3   │ 0.5      │ 0.5      │\n",
       "│ 4   │ 0.75     │ 0.25     │"
      ]
     },
     "execution_count": 23,
     "metadata": {},
     "output_type": "execute_result"
    }
   ],
   "source": [
    "df = DataFrame(\n",
    "    a = [missing, 0.25, 0.5, 0.75],\n",
    "    b = [missing, 0.75, 0.5, 0.25],\n",
    ")\n"
   ]
  },
  {
   "cell_type": "code",
   "execution_count": 24,
   "metadata": {},
   "outputs": [
    {
     "data": {
      "text/plain": []
     },
     "execution_count": 24,
     "metadata": {},
     "output_type": "execute_result"
    },
    {
     "name": "stdout",
     "output_type": "stream",
     "text": [
      "2×2 DataFrame\n",
      "│ Row │ a        │ b        │\n",
      "│     │ \u001b[90mFloat64?\u001b[39m │ \u001b[90mFloat64?\u001b[39m │\n",
      "├─────┼──────────┼──────────┤\n",
      "│ 1   │ 0.5      │ 0.5      │\n",
      "│ 2   │ 0.75     │ 0.25     │"
     ]
    }
   ],
   "source": [
    "let x = 0.5\n",
    "    @where(df, a >= $x)\n",
    "end"
   ]
  }
 ],
 "metadata": {
  "kernelspec": {
   "display_name": "Julia 1.5.0",
   "language": "julia",
   "name": "julia-1.5"
  },
  "language_info": {
   "file_extension": ".jl",
   "mimetype": "application/julia",
   "name": "julia",
   "version": "1.5.1"
  }
 },
 "nbformat": 4,
 "nbformat_minor": 4
}
